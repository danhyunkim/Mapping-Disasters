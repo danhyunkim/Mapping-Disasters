{
 "cells": [
  {
   "cell_type": "markdown",
   "metadata": {},
   "source": [
    "# Project 4 - Client Problem #1: \n",
    "# Leveraging Social Media to Map Disasters\n",
    "# Acquiring the historical tweet data - accessing the Twitter API, extracting the text, location and time stamp from the JSON, and saving it as a DataFrame."
   ]
  },
  {
   "cell_type": "markdown",
   "metadata": {},
   "source": [
    "## Here we retrieved all tweets with a location within 25 miles of Panama City for the first two weeks of October 2018 including the week before and the week after Hurricane Michael."
   ]
  },
  {
   "cell_type": "code",
   "execution_count": 2,
   "metadata": {},
   "outputs": [],
   "source": [
    "#!pip install TwitterAPI"
   ]
  },
  {
   "cell_type": "code",
   "execution_count": 42,
   "metadata": {},
   "outputs": [],
   "source": [
    "from TwitterAPI import TwitterAPI\n",
    "import json\n",
    "\n",
    "import pandas as pd\n",
    "import time"
   ]
  },
  {
   "cell_type": "code",
   "execution_count": 21,
   "metadata": {},
   "outputs": [],
   "source": [
    "api = TwitterAPI(consumer_key=CONSUMER_API_KEY,\n",
    "                  consumer_secret=CONSUMER_API_SECRET_KEY,\n",
    "                  access_token_key=ACCESS_TOKEN,\n",
    "                  access_token_secret=ACCESS_TOKEN_SECRET)"
   ]
  },
  {
   "cell_type": "code",
   "execution_count": 22,
   "metadata": {},
   "outputs": [],
   "source": [
    "PRODUCT = 'fullarchive'\n",
    "LABEL = 'Development' # This is specific to your application\n",
    "# i.e. whatever label you set for your Dev environment, and is case sensitive"
   ]
  },
  {
   "cell_type": "code",
   "execution_count": 23,
   "metadata": {},
   "outputs": [],
   "source": [
    "# list_tweets = []\n",
    "# next=None"
   ]
  },
  {
   "cell_type": "code",
   "execution_count": 44,
   "metadata": {},
   "outputs": [
    {
     "data": {
      "text/plain": [
       "4"
      ]
     },
     "execution_count": 44,
     "metadata": {},
     "output_type": "execute_result"
    }
   ],
   "source": [
    "#web_request_count = 3\n",
    "web_request_count"
   ]
  },
  {
   "cell_type": "markdown",
   "metadata": {},
   "source": [
    "### The following code calls the Twitter API in a loop to extract all the tweets for the first two weeks in October 2018 for the two places near the Hurricane Michael landfall: Mexico Beach and Panama City, Florida, using a search radius of 20 miles and 25 miles respectively."
   ]
  },
  {
   "cell_type": "code",
   "execution_count": 45,
   "metadata": {},
   "outputs": [
    {
     "name": "stdout",
     "output_type": "stream",
     "text": [
      "r.status_code:  200\n",
      "web_request_count:  4\n",
      "r.status_code:  200\n",
      "web_request_count:  5\n",
      "r.status_code:  200\n",
      "web_request_count:  6\n",
      "r.status_code:  200\n",
      "web_request_count:  7\n",
      "r.status_code:  200\n",
      "web_request_count:  8\n",
      "r.status_code:  200\n",
      "web_request_count:  9\n",
      "r.status_code:  200\n",
      "web_request_count:  10\n",
      "r.status_code:  200\n",
      "web_request_count:  11\n",
      "r.status_code:  200\n",
      "web_request_count:  12\n",
      "r.status_code:  200\n",
      "web_request_count:  13\n",
      "r.status_code:  200\n"
     ]
    },
    {
     "ename": "KeyError",
     "evalue": "'next'",
     "output_type": "error",
     "traceback": [
      "\u001b[0;31m---------------------------------------------------------------------------\u001b[0m",
      "\u001b[0;31mKeyError\u001b[0m                                  Traceback (most recent call last)",
      "\u001b[0;32m<ipython-input-45-bf459e30e967>\u001b[0m in \u001b[0;36m<module>\u001b[0;34m\u001b[0m\n\u001b[1;32m     13\u001b[0m \u001b[0;34m\u001b[0m\u001b[0m\n\u001b[1;32m     14\u001b[0m     \u001b[0mprint\u001b[0m\u001b[0;34m(\u001b[0m\u001b[0;34m'r.status_code: '\u001b[0m\u001b[0;34m,\u001b[0m \u001b[0mr\u001b[0m\u001b[0;34m.\u001b[0m\u001b[0mstatus_code\u001b[0m\u001b[0;34m)\u001b[0m\u001b[0;34m\u001b[0m\u001b[0m\n\u001b[0;32m---> 15\u001b[0;31m     \u001b[0mnext\u001b[0m \u001b[0;34m=\u001b[0m \u001b[0mr\u001b[0m\u001b[0;34m.\u001b[0m\u001b[0mjson\u001b[0m\u001b[0;34m(\u001b[0m\u001b[0;34m)\u001b[0m\u001b[0;34m[\u001b[0m\u001b[0;34m'next'\u001b[0m\u001b[0;34m]\u001b[0m\u001b[0;34m\u001b[0m\u001b[0m\n\u001b[0m\u001b[1;32m     16\u001b[0m     \u001b[0;31m#print('next: ', next)\u001b[0m\u001b[0;34m\u001b[0m\u001b[0;34m\u001b[0m\u001b[0m\n\u001b[1;32m     17\u001b[0m     \u001b[0mprint\u001b[0m\u001b[0;34m(\u001b[0m\u001b[0;34m'web_request_count: '\u001b[0m\u001b[0;34m,\u001b[0m \u001b[0mweb_request_count\u001b[0m\u001b[0;34m)\u001b[0m\u001b[0;34m\u001b[0m\u001b[0m\n",
      "\u001b[0;31mKeyError\u001b[0m: 'next'"
     ]
    }
   ],
   "source": [
    "# r = api.request('tweets/search/%s/:%s' % (PRODUCT, LABEL), \n",
    "#                 {'query':'point_radius:[-85.4180 29.9480 50mi]','toDate':'201810180000',\n",
    "#                 'fromDate':'201810010000'#,\n",
    "# #                'next': next\n",
    "# }) This was for Mexico Beach\n",
    "\n",
    "while next is not None:\n",
    "    r = api.request('tweets/search/%s/:%s' % (PRODUCT, LABEL), \n",
    "                    {'query':'point_radius:[-85.6602 30.1588 25mi]','toDate':'201810180000',\n",
    "                    'fromDate':'201810010000',\n",
    "                    'next': next\n",
    "    }) # This is for Panama City, Florida\n",
    "\n",
    "    print('r.status_code: ', r.status_code)\n",
    "    next = r.json()['next']\n",
    "    #print('next: ', next)\n",
    "    print('web_request_count: ', web_request_count)\n",
    "    web_request_count += 1\n",
    "\n",
    "    results = r.json()['results']\n",
    "\n",
    "    for tweet in results:\n",
    "\n",
    "        coordinates = tweet['coordinates']['coordinates']\n",
    "        tweet_date = tweet['created_at']\n",
    "        tweet_text = tweet['text']                              \n",
    "\n",
    "        if 'extended_tweet' in tweet.keys():\n",
    "            tweet_text = tweet['extended_tweet']['full_text']  \n",
    "\n",
    "        tweet_row = {'long_lat':coordinates,\n",
    "                    'date_utc':tweet_date,\n",
    "                    'full_text':tweet_text}\n",
    "\n",
    "        list_tweets.append(tweet_row) \n",
    "\n",
    "    df = pd.DataFrame(list_tweets)\n",
    "\n",
    "    df.to_json('tweets_df_panama_city_25mi_oct.json', orient='records')\n",
    "    \n",
    "    time.sleep(2.1) # wait i.e. only 30 requests per minute allowed"
   ]
  },
  {
   "cell_type": "code",
   "execution_count": 52,
   "metadata": {},
   "outputs": [
    {
     "data": {
      "text/plain": [
       "1352"
      ]
     },
     "execution_count": 52,
     "metadata": {},
     "output_type": "execute_result"
    }
   ],
   "source": [
    "results = r.json()['results']\n",
    "results\n",
    "len(results) # 52\n",
    "len(list_tweets) # 1300\n",
    "# 1352"
   ]
  },
  {
   "cell_type": "markdown",
   "metadata": {},
   "source": [
    "### The final total count of tweets retrieved for the 25 mile radius search of Panama City was 1352"
   ]
  },
  {
   "cell_type": "code",
   "execution_count": 40,
   "metadata": {},
   "outputs": [
    {
     "data": {
      "text/plain": [
       "4"
      ]
     },
     "execution_count": 40,
     "metadata": {},
     "output_type": "execute_result"
    }
   ],
   "source": [
    "web_request_count"
   ]
  },
  {
   "cell_type": "code",
   "execution_count": 39,
   "metadata": {},
   "outputs": [
    {
     "data": {
      "text/plain": [
       "'eyJhdXRoZW50aWNpdHkiOiIwZDIyY2U4ZDQzZTVjYTI3MGQ4NDVjOGE0YTJkYjU1MzI2OTViODAyOWI5ZmY2N2NlZjhjMmM2NjMzYmE2NDFmIiwiZnJvbURhdGUiOiIyMDE4MTAwMTAwMDAiLCJ0b0RhdGUiOiIyMDE4MTAxODAwMDAiLCJuZXh0IjoiMjAxODEwMTMyMTEzMTktMTA1MTIxOTM1MzUxMTgzMzU5OS0wIn0='"
      ]
     },
     "execution_count": 39,
     "metadata": {},
     "output_type": "execute_result"
    }
   ],
   "source": [
    "next"
   ]
  },
  {
   "cell_type": "code",
   "execution_count": 35,
   "metadata": {},
   "outputs": [
    {
     "data": {
      "text/plain": [
       "200"
      ]
     },
     "execution_count": 35,
     "metadata": {},
     "output_type": "execute_result"
    }
   ],
   "source": [
    "len(list_tweets)\n",
    "# 100\n",
    "# 200"
   ]
  },
  {
   "cell_type": "code",
   "execution_count": 27,
   "metadata": {},
   "outputs": [
    {
     "data": {
      "text/plain": [
       "{'error': {'message': \"There were errors processing your request: Invalid 'point_radius':'[-85.4180 29.9480 50mi]'. Radius must be less than 25 miles (at position 1)\",\n",
       "  'sent': '2019-01-16T18:37:36+00:00',\n",
       "  'transactionId': '00f238f9006c1a28'}}"
      ]
     },
     "execution_count": 27,
     "metadata": {},
     "output_type": "execute_result"
    }
   ],
   "source": [
    "r.json()\n",
    "# {'error': {'message': \"There were errors processing your request: \n",
    "# Invalid 'point_radius':'[-85.4180 29.9480 50mi]'. \n",
    "# Radius must be less than 25 miles (at position 1)\",\n",
    "#   'sent': '2019-01-16T18:37:36+00:00',\n",
    "#   'transactionId': '00f238f9006c1a28'}}\n",
    "# So change from Mexico Beach as center to Panama City (approx 25 miles away)\n",
    "# using the max search radius = 25 miles"
   ]
  },
  {
   "cell_type": "code",
   "execution_count": 13,
   "metadata": {},
   "outputs": [
    {
     "name": "stdout",
     "output_type": "stream",
     "text": [
      "r.status_code:  403\n",
      "r.response.reason:  Forbidden\n",
      "r.response:  <Response [403]>\n",
      "r.get_quota():  {'remaining': None, 'limit': None, 'reset': None}\n",
      "r.headers:  {'content-length': '184', 'content-type': 'application/json; charset=utf-8', 'date': 'Wed, 16 Jan 2019 02:38:26 GMT', 'server': 'tsa_b', 'set-cookie': 'personalization_id=\"v1_IH6Sczd+qho/W/0mYvCYQA==\"; Max-Age=63072000; Expires=Fri, 15 Jan 2021 02:38:26 GMT; Path=/; Domain=.twitter.com, guest_id=v1%3A154760630636354601; Max-Age=63072000; Expires=Fri, 15 Jan 2021 02:38:26 GMT; Path=/; Domain=.twitter.com', 'strict-transport-security': 'max-age=631138519', 'x-connection-hash': '1649ff52983c9a1452653f7a2b0e8115', 'x-rate-limit-limit': '1800', 'x-rate-limit-remaining': '1798', 'x-rate-limit-reset': '1547607042', 'x-response-time': '39'}\n"
     ]
    }
   ],
   "source": [
    "print('r.status_code: ', r.status_code) # r.status_code:  \n",
    "print('r.response.reason: ', r.response.reason)\n",
    "print ('r.response: ', r.response)\n",
    "#print('r.json(): ',r.json())\n",
    "#print('r.text: ', r.text)\n",
    "print('r.get_quota(): ', r.get_quota())\n",
    "print('r.headers: ', r.headers)"
   ]
  }
 ],
 "metadata": {
  "kernelspec": {
   "display_name": "Python 3",
   "language": "python",
   "name": "python3"
  },
  "language_info": {
   "codemirror_mode": {
    "name": "ipython",
    "version": 3
   },
   "file_extension": ".py",
   "mimetype": "text/x-python",
   "name": "python",
   "nbconvert_exporter": "python",
   "pygments_lexer": "ipython3",
   "version": "3.7.0"
  }
 },
 "nbformat": 4,
 "nbformat_minor": 2
}
