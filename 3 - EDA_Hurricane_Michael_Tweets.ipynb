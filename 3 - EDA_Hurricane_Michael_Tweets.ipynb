{
 "cells": [
  {
   "cell_type": "markdown",
   "metadata": {},
   "source": [
    "# Project 4 - Client Problem #1: \n",
    "# Leveraging Social Media to Map Disasters\n",
    "# Exploratory Data Analysis"
   ]
  },
  {
   "cell_type": "markdown",
   "metadata": {},
   "source": [
    "## This follows on from the data collection phase, and combines the tweet data from Mexico Beach and Panama City."
   ]
  },
  {
   "cell_type": "code",
   "execution_count": 73,
   "metadata": {},
   "outputs": [],
   "source": [
    "import json\n",
    "import pandas as pd\n",
    "from pprint import pprint\n",
    "import datetime\n",
    "\n",
    "import numpy as np\n",
    "\n",
    "import matplotlib.pyplot as plt"
   ]
  },
  {
   "cell_type": "markdown",
   "metadata": {},
   "source": [
    "### Read in the two json files created during the data collection phase"
   ]
  },
  {
   "cell_type": "code",
   "execution_count": 37,
   "metadata": {},
   "outputs": [
    {
     "name": "stdout",
     "output_type": "stream",
     "text": [
      "<class 'pandas.core.frame.DataFrame'>\n",
      "Int64Index: 682 entries, 0 to 99\n",
      "Data columns (total 3 columns):\n",
      "date_utc     682 non-null object\n",
      "full_text    682 non-null object\n",
      "long_lat     682 non-null object\n",
      "dtypes: object(3)\n",
      "memory usage: 21.3+ KB\n"
     ]
    }
   ],
   "source": [
    "df_mexico_beach = pd.read_json('tweets_df_mexico_beach_20mi_oct_date_string.json')\n",
    "df_mexico_beach.info() # Int64Index: 682 entries, 0 to 99"
   ]
  },
  {
   "cell_type": "code",
   "execution_count": 42,
   "metadata": {},
   "outputs": [
    {
     "data": {
      "text/html": [
       "<div>\n",
       "<style scoped>\n",
       "    .dataframe tbody tr th:only-of-type {\n",
       "        vertical-align: middle;\n",
       "    }\n",
       "\n",
       "    .dataframe tbody tr th {\n",
       "        vertical-align: top;\n",
       "    }\n",
       "\n",
       "    .dataframe thead th {\n",
       "        text-align: right;\n",
       "    }\n",
       "</style>\n",
       "<table border=\"1\" class=\"dataframe\">\n",
       "  <thead>\n",
       "    <tr style=\"text-align: right;\">\n",
       "      <th></th>\n",
       "      <th>date_utc</th>\n",
       "      <th>full_text</th>\n",
       "      <th>long_lat</th>\n",
       "    </tr>\n",
       "  </thead>\n",
       "  <tbody>\n",
       "    <tr>\n",
       "      <th>0</th>\n",
       "      <td>Wed Oct 17 23:21:55 +0000 2018</td>\n",
       "      <td>current weather in Panama City: scattered clou...</td>\n",
       "      <td>[-85.66, 30.16]</td>\n",
       "    </tr>\n",
       "    <tr>\n",
       "      <th>1</th>\n",
       "      <td>Wed Oct 17 23:10:52 +0000 2018</td>\n",
       "      <td>A resident from #MexicoBeach finds her marriag...</td>\n",
       "      <td>[-85.40839, 29.94124]</td>\n",
       "    </tr>\n",
       "    <tr>\n",
       "      <th>10</th>\n",
       "      <td>Wed Oct 17 20:37:55 +0000 2018</td>\n",
       "      <td>My new friend Mr. Harmon of Mexico Beach...a f...</td>\n",
       "      <td>[-85.40839, 29.94124]</td>\n",
       "    </tr>\n",
       "    <tr>\n",
       "      <th>100</th>\n",
       "      <td>Mon Oct 15 23:18:45 +0000 2018</td>\n",
       "      <td>Panama City: 6:10pm: sunset</td>\n",
       "      <td>[-85.66, 30.16]</td>\n",
       "    </tr>\n",
       "    <tr>\n",
       "      <th>101</th>\n",
       "      <td>Mon Oct 15 22:30:43 +0000 2018</td>\n",
       "      <td>Katy Pinson comforted Brenda Pulliam, whose ho...</td>\n",
       "      <td>[-85.60471, 30.13108]</td>\n",
       "    </tr>\n",
       "  </tbody>\n",
       "</table>\n",
       "</div>"
      ],
      "text/plain": [
       "                           date_utc  \\\n",
       "0    Wed Oct 17 23:21:55 +0000 2018   \n",
       "1    Wed Oct 17 23:10:52 +0000 2018   \n",
       "10   Wed Oct 17 20:37:55 +0000 2018   \n",
       "100  Mon Oct 15 23:18:45 +0000 2018   \n",
       "101  Mon Oct 15 22:30:43 +0000 2018   \n",
       "\n",
       "                                             full_text               long_lat  \n",
       "0    current weather in Panama City: scattered clou...        [-85.66, 30.16]  \n",
       "1    A resident from #MexicoBeach finds her marriag...  [-85.40839, 29.94124]  \n",
       "10   My new friend Mr. Harmon of Mexico Beach...a f...  [-85.40839, 29.94124]  \n",
       "100                        Panama City: 6:10pm: sunset        [-85.66, 30.16]  \n",
       "101  Katy Pinson comforted Brenda Pulliam, whose ho...  [-85.60471, 30.13108]  "
      ]
     },
     "execution_count": 42,
     "metadata": {},
     "output_type": "execute_result"
    }
   ],
   "source": [
    "df_mexico_beach.head()"
   ]
  },
  {
   "cell_type": "code",
   "execution_count": 39,
   "metadata": {},
   "outputs": [
    {
     "name": "stdout",
     "output_type": "stream",
     "text": [
      "<class 'pandas.core.frame.DataFrame'>\n",
      "RangeIndex: 1352 entries, 0 to 1351\n",
      "Data columns (total 3 columns):\n",
      "date_utc     1352 non-null object\n",
      "full_text    1352 non-null object\n",
      "long_lat     1352 non-null object\n",
      "dtypes: object(3)\n",
      "memory usage: 31.8+ KB\n"
     ]
    }
   ],
   "source": [
    "df_panama_city = pd.read_json('tweets_df_panama_city_25mi_oct.json')\n",
    "df_panama_city.info() # RangeIndex: 1352 entries, 0 to 1351"
   ]
  },
  {
   "cell_type": "code",
   "execution_count": 43,
   "metadata": {},
   "outputs": [
    {
     "data": {
      "text/html": [
       "<div>\n",
       "<style scoped>\n",
       "    .dataframe tbody tr th:only-of-type {\n",
       "        vertical-align: middle;\n",
       "    }\n",
       "\n",
       "    .dataframe tbody tr th {\n",
       "        vertical-align: top;\n",
       "    }\n",
       "\n",
       "    .dataframe thead th {\n",
       "        text-align: right;\n",
       "    }\n",
       "</style>\n",
       "<table border=\"1\" class=\"dataframe\">\n",
       "  <thead>\n",
       "    <tr style=\"text-align: right;\">\n",
       "      <th></th>\n",
       "      <th>date_utc</th>\n",
       "      <th>full_text</th>\n",
       "      <th>long_lat</th>\n",
       "    </tr>\n",
       "  </thead>\n",
       "  <tbody>\n",
       "    <tr>\n",
       "      <th>0</th>\n",
       "      <td>Wed Oct 17 23:41:11 +0000 2018</td>\n",
       "      <td>Just posted a photo @ The Arc of The Bay / St....</td>\n",
       "      <td>[-85.6585, 30.2312]</td>\n",
       "    </tr>\n",
       "    <tr>\n",
       "      <th>1</th>\n",
       "      <td>Wed Oct 17 23:21:55 +0000 2018</td>\n",
       "      <td>current weather in Panama City: scattered clou...</td>\n",
       "      <td>[-85.66, 30.16]</td>\n",
       "    </tr>\n",
       "    <tr>\n",
       "      <th>2</th>\n",
       "      <td>Wed Oct 17 23:15:10 +0000 2018</td>\n",
       "      <td>🧜🏼‍♀️ #fallbreak2018 @ 30A-- Seagrove Beach ht...</td>\n",
       "      <td>[-86.09041268, 30.30601299]</td>\n",
       "    </tr>\n",
       "    <tr>\n",
       "      <th>3</th>\n",
       "      <td>Wed Oct 17 23:13:43 +0000 2018</td>\n",
       "      <td>As some of you know,I lived in Panama City Bea...</td>\n",
       "      <td>[-85.8515, 30.2074]</td>\n",
       "    </tr>\n",
       "    <tr>\n",
       "      <th>4</th>\n",
       "      <td>Wed Oct 17 23:10:52 +0000 2018</td>\n",
       "      <td>A resident from #MexicoBeach finds her marriag...</td>\n",
       "      <td>[-85.40839, 29.94124]</td>\n",
       "    </tr>\n",
       "  </tbody>\n",
       "</table>\n",
       "</div>"
      ],
      "text/plain": [
       "                         date_utc  \\\n",
       "0  Wed Oct 17 23:41:11 +0000 2018   \n",
       "1  Wed Oct 17 23:21:55 +0000 2018   \n",
       "2  Wed Oct 17 23:15:10 +0000 2018   \n",
       "3  Wed Oct 17 23:13:43 +0000 2018   \n",
       "4  Wed Oct 17 23:10:52 +0000 2018   \n",
       "\n",
       "                                           full_text  \\\n",
       "0  Just posted a photo @ The Arc of The Bay / St....   \n",
       "1  current weather in Panama City: scattered clou...   \n",
       "2  🧜🏼‍♀️ #fallbreak2018 @ 30A-- Seagrove Beach ht...   \n",
       "3  As some of you know,I lived in Panama City Bea...   \n",
       "4  A resident from #MexicoBeach finds her marriag...   \n",
       "\n",
       "                      long_lat  \n",
       "0          [-85.6585, 30.2312]  \n",
       "1              [-85.66, 30.16]  \n",
       "2  [-86.09041268, 30.30601299]  \n",
       "3          [-85.8515, 30.2074]  \n",
       "4        [-85.40839, 29.94124]  "
      ]
     },
     "execution_count": 43,
     "metadata": {},
     "output_type": "execute_result"
    }
   ],
   "source": [
    "df_panama_city.head()"
   ]
  },
  {
   "cell_type": "markdown",
   "metadata": {},
   "source": [
    "### Merge the Mexico Beach and Panama City datasets, before looking for duplicates"
   ]
  },
  {
   "cell_type": "code",
   "execution_count": 113,
   "metadata": {},
   "outputs": [],
   "source": [
    "#df = pd.concat([df_mexico_beach, df_panama_city]) # 2034 rows × 3 columns"
   ]
  },
  {
   "cell_type": "code",
   "execution_count": 50,
   "metadata": {},
   "outputs": [],
   "source": [
    "#df.to_json('tweets_df_panama_city_mexico_beach_oct.json', orient='records')"
   ]
  },
  {
   "cell_type": "code",
   "execution_count": 51,
   "metadata": {},
   "outputs": [
    {
     "data": {
      "text/html": [
       "<div>\n",
       "<style scoped>\n",
       "    .dataframe tbody tr th:only-of-type {\n",
       "        vertical-align: middle;\n",
       "    }\n",
       "\n",
       "    .dataframe tbody tr th {\n",
       "        vertical-align: top;\n",
       "    }\n",
       "\n",
       "    .dataframe thead th {\n",
       "        text-align: right;\n",
       "    }\n",
       "</style>\n",
       "<table border=\"1\" class=\"dataframe\">\n",
       "  <thead>\n",
       "    <tr style=\"text-align: right;\">\n",
       "      <th></th>\n",
       "      <th>date_utc</th>\n",
       "      <th>full_text</th>\n",
       "      <th>long_lat</th>\n",
       "    </tr>\n",
       "  </thead>\n",
       "  <tbody>\n",
       "    <tr>\n",
       "      <th>0</th>\n",
       "      <td>Wed Oct 17 23:21:55 +0000 2018</td>\n",
       "      <td>current weather in Panama City: scattered clou...</td>\n",
       "      <td>[-85.66, 30.16]</td>\n",
       "    </tr>\n",
       "    <tr>\n",
       "      <th>1</th>\n",
       "      <td>Wed Oct 17 23:10:52 +0000 2018</td>\n",
       "      <td>A resident from #MexicoBeach finds her marriag...</td>\n",
       "      <td>[-85.40839, 29.94124]</td>\n",
       "    </tr>\n",
       "    <tr>\n",
       "      <th>10</th>\n",
       "      <td>Wed Oct 17 20:37:55 +0000 2018</td>\n",
       "      <td>My new friend Mr. Harmon of Mexico Beach...a f...</td>\n",
       "      <td>[-85.40839, 29.94124]</td>\n",
       "    </tr>\n",
       "    <tr>\n",
       "      <th>100</th>\n",
       "      <td>Mon Oct 15 23:18:45 +0000 2018</td>\n",
       "      <td>Panama City: 6:10pm: sunset</td>\n",
       "      <td>[-85.66, 30.16]</td>\n",
       "    </tr>\n",
       "    <tr>\n",
       "      <th>101</th>\n",
       "      <td>Mon Oct 15 22:30:43 +0000 2018</td>\n",
       "      <td>Katy Pinson comforted Brenda Pulliam, whose ho...</td>\n",
       "      <td>[-85.60471, 30.13108]</td>\n",
       "    </tr>\n",
       "  </tbody>\n",
       "</table>\n",
       "</div>"
      ],
      "text/plain": [
       "                           date_utc  \\\n",
       "0    Wed Oct 17 23:21:55 +0000 2018   \n",
       "1    Wed Oct 17 23:10:52 +0000 2018   \n",
       "10   Wed Oct 17 20:37:55 +0000 2018   \n",
       "100  Mon Oct 15 23:18:45 +0000 2018   \n",
       "101  Mon Oct 15 22:30:43 +0000 2018   \n",
       "\n",
       "                                             full_text               long_lat  \n",
       "0    current weather in Panama City: scattered clou...        [-85.66, 30.16]  \n",
       "1    A resident from #MexicoBeach finds her marriag...  [-85.40839, 29.94124]  \n",
       "10   My new friend Mr. Harmon of Mexico Beach...a f...  [-85.40839, 29.94124]  \n",
       "100                        Panama City: 6:10pm: sunset        [-85.66, 30.16]  \n",
       "101  Katy Pinson comforted Brenda Pulliam, whose ho...  [-85.60471, 30.13108]  "
      ]
     },
     "execution_count": 51,
     "metadata": {},
     "output_type": "execute_result"
    }
   ],
   "source": [
    "df.head()"
   ]
  },
  {
   "cell_type": "markdown",
   "metadata": {},
   "source": [
    "### Drop the longitude / latitude column as it will not be used i.e. it will all be considered as one location for the purposes of modelling."
   ]
  },
  {
   "cell_type": "code",
   "execution_count": 52,
   "metadata": {},
   "outputs": [
    {
     "data": {
      "text/html": [
       "<div>\n",
       "<style scoped>\n",
       "    .dataframe tbody tr th:only-of-type {\n",
       "        vertical-align: middle;\n",
       "    }\n",
       "\n",
       "    .dataframe tbody tr th {\n",
       "        vertical-align: top;\n",
       "    }\n",
       "\n",
       "    .dataframe thead th {\n",
       "        text-align: right;\n",
       "    }\n",
       "</style>\n",
       "<table border=\"1\" class=\"dataframe\">\n",
       "  <thead>\n",
       "    <tr style=\"text-align: right;\">\n",
       "      <th></th>\n",
       "      <th>date_utc</th>\n",
       "      <th>full_text</th>\n",
       "    </tr>\n",
       "  </thead>\n",
       "  <tbody>\n",
       "    <tr>\n",
       "      <th>0</th>\n",
       "      <td>Wed Oct 17 23:21:55 +0000 2018</td>\n",
       "      <td>current weather in Panama City: scattered clou...</td>\n",
       "    </tr>\n",
       "    <tr>\n",
       "      <th>1</th>\n",
       "      <td>Wed Oct 17 23:10:52 +0000 2018</td>\n",
       "      <td>A resident from #MexicoBeach finds her marriag...</td>\n",
       "    </tr>\n",
       "    <tr>\n",
       "      <th>10</th>\n",
       "      <td>Wed Oct 17 20:37:55 +0000 2018</td>\n",
       "      <td>My new friend Mr. Harmon of Mexico Beach...a f...</td>\n",
       "    </tr>\n",
       "    <tr>\n",
       "      <th>100</th>\n",
       "      <td>Mon Oct 15 23:18:45 +0000 2018</td>\n",
       "      <td>Panama City: 6:10pm: sunset</td>\n",
       "    </tr>\n",
       "    <tr>\n",
       "      <th>101</th>\n",
       "      <td>Mon Oct 15 22:30:43 +0000 2018</td>\n",
       "      <td>Katy Pinson comforted Brenda Pulliam, whose ho...</td>\n",
       "    </tr>\n",
       "  </tbody>\n",
       "</table>\n",
       "</div>"
      ],
      "text/plain": [
       "                           date_utc  \\\n",
       "0    Wed Oct 17 23:21:55 +0000 2018   \n",
       "1    Wed Oct 17 23:10:52 +0000 2018   \n",
       "10   Wed Oct 17 20:37:55 +0000 2018   \n",
       "100  Mon Oct 15 23:18:45 +0000 2018   \n",
       "101  Mon Oct 15 22:30:43 +0000 2018   \n",
       "\n",
       "                                             full_text  \n",
       "0    current weather in Panama City: scattered clou...  \n",
       "1    A resident from #MexicoBeach finds her marriag...  \n",
       "10   My new friend Mr. Harmon of Mexico Beach...a f...  \n",
       "100                        Panama City: 6:10pm: sunset  \n",
       "101  Katy Pinson comforted Brenda Pulliam, whose ho...  "
      ]
     },
     "execution_count": 52,
     "metadata": {},
     "output_type": "execute_result"
    }
   ],
   "source": [
    "df.drop('long_lat', axis=1, inplace=True)\n",
    "df.head()"
   ]
  },
  {
   "cell_type": "markdown",
   "metadata": {},
   "source": [
    "### Create function to convert the strings representing dates to actual date time objects, to allow time series modelling."
   ]
  },
  {
   "cell_type": "code",
   "execution_count": 24,
   "metadata": {},
   "outputs": [],
   "source": [
    "def convert_tweet_time_to_date(date_time_string):\n",
    "    return datetime.datetime.strptime(date_time_string, \"%a %b %d %H:%M:%S %z %Y\") \n",
    "\n",
    "# test_first_date = df.date_utc[0]\n",
    "# type(test_first_date)\n",
    "# convert_tweet_time_to_date(test_first_date)"
   ]
  },
  {
   "cell_type": "code",
   "execution_count": 53,
   "metadata": {},
   "outputs": [
    {
     "name": "stdout",
     "output_type": "stream",
     "text": [
      "<class 'pandas.core.frame.DataFrame'>\n",
      "Int64Index: 2034 entries, 0 to 1351\n",
      "Data columns (total 2 columns):\n",
      "date_utc     2034 non-null object\n",
      "full_text    2034 non-null object\n",
      "dtypes: object(2)\n",
      "memory usage: 87.7+ KB\n"
     ]
    }
   ],
   "source": [
    "df.info()"
   ]
  },
  {
   "cell_type": "markdown",
   "metadata": {},
   "source": [
    "### Convert the date column in the dataframe from string to type date time."
   ]
  },
  {
   "cell_type": "code",
   "execution_count": 54,
   "metadata": {},
   "outputs": [],
   "source": [
    "df.date_utc = df.date_utc.apply(convert_tweet_time_to_date)"
   ]
  },
  {
   "cell_type": "code",
   "execution_count": 55,
   "metadata": {},
   "outputs": [
    {
     "name": "stdout",
     "output_type": "stream",
     "text": [
      "<class 'pandas.core.frame.DataFrame'>\n",
      "Int64Index: 2034 entries, 0 to 1351\n",
      "Data columns (total 2 columns):\n",
      "date_utc     2034 non-null datetime64[ns, UTC]\n",
      "full_text    2034 non-null object\n",
      "dtypes: datetime64[ns, UTC](1), object(1)\n",
      "memory usage: 87.7+ KB\n"
     ]
    }
   ],
   "source": [
    "df.info()"
   ]
  },
  {
   "cell_type": "code",
   "execution_count": 56,
   "metadata": {},
   "outputs": [
    {
     "data": {
      "text/html": [
       "<div>\n",
       "<style scoped>\n",
       "    .dataframe tbody tr th:only-of-type {\n",
       "        vertical-align: middle;\n",
       "    }\n",
       "\n",
       "    .dataframe tbody tr th {\n",
       "        vertical-align: top;\n",
       "    }\n",
       "\n",
       "    .dataframe thead th {\n",
       "        text-align: right;\n",
       "    }\n",
       "</style>\n",
       "<table border=\"1\" class=\"dataframe\">\n",
       "  <thead>\n",
       "    <tr style=\"text-align: right;\">\n",
       "      <th></th>\n",
       "      <th>date_utc</th>\n",
       "      <th>full_text</th>\n",
       "    </tr>\n",
       "  </thead>\n",
       "  <tbody>\n",
       "    <tr>\n",
       "      <th>0</th>\n",
       "      <td>2018-10-17 23:21:55+00:00</td>\n",
       "      <td>current weather in Panama City: scattered clou...</td>\n",
       "    </tr>\n",
       "    <tr>\n",
       "      <th>1</th>\n",
       "      <td>2018-10-17 23:10:52+00:00</td>\n",
       "      <td>A resident from #MexicoBeach finds her marriag...</td>\n",
       "    </tr>\n",
       "    <tr>\n",
       "      <th>10</th>\n",
       "      <td>2018-10-17 20:37:55+00:00</td>\n",
       "      <td>My new friend Mr. Harmon of Mexico Beach...a f...</td>\n",
       "    </tr>\n",
       "    <tr>\n",
       "      <th>100</th>\n",
       "      <td>2018-10-15 23:18:45+00:00</td>\n",
       "      <td>Panama City: 6:10pm: sunset</td>\n",
       "    </tr>\n",
       "    <tr>\n",
       "      <th>101</th>\n",
       "      <td>2018-10-15 22:30:43+00:00</td>\n",
       "      <td>Katy Pinson comforted Brenda Pulliam, whose ho...</td>\n",
       "    </tr>\n",
       "  </tbody>\n",
       "</table>\n",
       "</div>"
      ],
      "text/plain": [
       "                     date_utc  \\\n",
       "0   2018-10-17 23:21:55+00:00   \n",
       "1   2018-10-17 23:10:52+00:00   \n",
       "10  2018-10-17 20:37:55+00:00   \n",
       "100 2018-10-15 23:18:45+00:00   \n",
       "101 2018-10-15 22:30:43+00:00   \n",
       "\n",
       "                                             full_text  \n",
       "0    current weather in Panama City: scattered clou...  \n",
       "1    A resident from #MexicoBeach finds her marriag...  \n",
       "10   My new friend Mr. Harmon of Mexico Beach...a f...  \n",
       "100                        Panama City: 6:10pm: sunset  \n",
       "101  Katy Pinson comforted Brenda Pulliam, whose ho...  "
      ]
     },
     "execution_count": 56,
     "metadata": {},
     "output_type": "execute_result"
    }
   ],
   "source": [
    "df.head()"
   ]
  },
  {
   "cell_type": "markdown",
   "metadata": {},
   "source": [
    "### Set the date column to be the index, so it can be used for time series modelling"
   ]
  },
  {
   "cell_type": "code",
   "execution_count": 57,
   "metadata": {},
   "outputs": [],
   "source": [
    "df.set_index('date_utc', inplace=True)"
   ]
  },
  {
   "cell_type": "code",
   "execution_count": 119,
   "metadata": {},
   "outputs": [
    {
     "name": "stdout",
     "output_type": "stream",
     "text": [
      "<class 'pandas.core.frame.DataFrame'>\n",
      "DatetimeIndex: 2034 entries, 2018-10-17 23:21:55+00:00 to 2018-10-01 00:06:08+00:00\n",
      "Data columns (total 1 columns):\n",
      "full_text    2034 non-null object\n",
      "dtypes: object(1)\n",
      "memory usage: 31.8+ KB\n"
     ]
    }
   ],
   "source": [
    "df # date is the index but is not sorted, which is ok.\n",
    "df.head()\n",
    "df.info() # DatetimeIndex: 2034 entries"
   ]
  },
  {
   "cell_type": "markdown",
   "metadata": {},
   "source": [
    "### Drop duplicates which resulted from the overlap between the 20 mile data collection radius around Mexico Beach and the 25 mile radius around Panama City i.e. they are only 25 miles apart."
   ]
  },
  {
   "cell_type": "code",
   "execution_count": 160,
   "metadata": {},
   "outputs": [
    {
     "data": {
      "text/plain": [
       "(1403, 1)"
      ]
     },
     "execution_count": 160,
     "metadata": {},
     "output_type": "execute_result"
    }
   ],
   "source": [
    "#df.drop_duplicates(inplace=True) # 1403 rows × 1 columns\n",
    "df.head()\n",
    "#df.to_json('tweets_df_hurricane_michael_oct.json', orient='records') # saves text only\n",
    "df.shape # (1403, 1)"
   ]
  },
  {
   "cell_type": "markdown",
   "metadata": {},
   "source": [
    "### Get the number of tweets per hour"
   ]
  },
  {
   "cell_type": "code",
   "execution_count": 121,
   "metadata": {},
   "outputs": [],
   "source": [
    "#df.resample('M').count() # 2018-10-31 00:00:00+00:00\t682\t682\n",
    "#df.resample('d').count() # by days\n",
    "#plt.plot(df.resample('d').count())\n",
    "df_hourly_count = df.resample('h').count() \n",
    "# 408 rows × 1 columns = Panama City and Mexico Beach\n",
    "# Was 408 rows × 1 columns = just Mexico Beach\n"
   ]
  },
  {
   "cell_type": "code",
   "execution_count": 122,
   "metadata": {},
   "outputs": [
    {
     "data": {
      "text/plain": [
       "67"
      ]
     },
     "execution_count": 122,
     "metadata": {},
     "output_type": "execute_result"
    }
   ],
   "source": [
    "df_hourly_count.full_text == 0 # Length: 408\n",
    "sum(df_hourly_count.full_text == 0) # 67 \n",
    "# => There appear to be 67 hours (observations) with no tweets\n",
    "# Which wouldn't be surpising giving night time hours etc\n"
   ]
  },
  {
   "cell_type": "code",
   "execution_count": 123,
   "metadata": {},
   "outputs": [
    {
     "data": {
      "text/plain": [
       "(1403, 1)"
      ]
     },
     "execution_count": 123,
     "metadata": {},
     "output_type": "execute_result"
    }
   ],
   "source": [
    "#df.reset_index()\n",
    "df.shape # (1403, 1)"
   ]
  },
  {
   "cell_type": "code",
   "execution_count": 182,
   "metadata": {},
   "outputs": [
    {
     "data": {
      "text/html": [
       "<div>\n",
       "<style scoped>\n",
       "    .dataframe tbody tr th:only-of-type {\n",
       "        vertical-align: middle;\n",
       "    }\n",
       "\n",
       "    .dataframe tbody tr th {\n",
       "        vertical-align: top;\n",
       "    }\n",
       "\n",
       "    .dataframe thead th {\n",
       "        text-align: right;\n",
       "    }\n",
       "</style>\n",
       "<table border=\"1\" class=\"dataframe\">\n",
       "  <thead>\n",
       "    <tr style=\"text-align: right;\">\n",
       "      <th></th>\n",
       "      <th>full_text</th>\n",
       "    </tr>\n",
       "    <tr>\n",
       "      <th>date_utc</th>\n",
       "      <th></th>\n",
       "    </tr>\n",
       "  </thead>\n",
       "  <tbody>\n",
       "    <tr>\n",
       "      <th>2018-10-17 23:21:55+00:00</th>\n",
       "      <td>current weather in Panama City: scattered clou...</td>\n",
       "    </tr>\n",
       "    <tr>\n",
       "      <th>2018-10-17 23:10:52+00:00</th>\n",
       "      <td>A resident from #MexicoBeach finds her marriag...</td>\n",
       "    </tr>\n",
       "    <tr>\n",
       "      <th>2018-10-17 20:37:55+00:00</th>\n",
       "      <td>My new friend Mr. Harmon of Mexico Beach...a f...</td>\n",
       "    </tr>\n",
       "    <tr>\n",
       "      <th>2018-10-15 23:18:45+00:00</th>\n",
       "      <td>Panama City: 6:10pm: sunset</td>\n",
       "    </tr>\n",
       "    <tr>\n",
       "      <th>2018-10-15 22:30:43+00:00</th>\n",
       "      <td>Katy Pinson comforted Brenda Pulliam, whose ho...</td>\n",
       "    </tr>\n",
       "  </tbody>\n",
       "</table>\n",
       "</div>"
      ],
      "text/plain": [
       "                                                                   full_text\n",
       "date_utc                                                                    \n",
       "2018-10-17 23:21:55+00:00  current weather in Panama City: scattered clou...\n",
       "2018-10-17 23:10:52+00:00  A resident from #MexicoBeach finds her marriag...\n",
       "2018-10-17 20:37:55+00:00  My new friend Mr. Harmon of Mexico Beach...a f...\n",
       "2018-10-15 23:18:45+00:00                        Panama City: 6:10pm: sunset\n",
       "2018-10-15 22:30:43+00:00  Katy Pinson comforted Brenda Pulliam, whose ho..."
      ]
     },
     "execution_count": 182,
     "metadata": {},
     "output_type": "execute_result"
    }
   ],
   "source": [
    "df.head()"
   ]
  },
  {
   "cell_type": "markdown",
   "metadata": {},
   "source": [
    "#### Plot the number of tweets per hour in the week before and after Hurricane Michael landfall at Mexico Beach, Florida"
   ]
  },
  {
   "cell_type": "code",
   "execution_count": 176,
   "metadata": {},
   "outputs": [],
   "source": [
    "import matplotlib.pylab as pylab\n",
    "params = {'legend.fontsize': 'x-large',\n",
    "          'figure.figsize': (15, 5),\n",
    "         'axes.labelsize': 'x-large',\n",
    "         'axes.titlesize':'x-large',\n",
    "         'xtick.labelsize':'xx-large',\n",
    "         'ytick.labelsize':'xX-large'}\n",
    "#          'xtick.labelsize':'x-large',\n",
    "#          'ytick.labelsize':'x-large'}\n",
    "pylab.rcParams.update(params)"
   ]
  },
  {
   "cell_type": "code",
   "execution_count": 188,
   "metadata": {},
   "outputs": [
    {
     "data": {
      "text/plain": [
       "<matplotlib.lines.Line2D at 0x1261aaf28>"
      ]
     },
     "execution_count": 188,
     "metadata": {},
     "output_type": "execute_result"
    },
    {
     "data": {
      "image/png": "[encoded data removed]",
      "text/plain": [
       "<Figure size 1440x504 with 1 Axes>"
      ]
     },
     "metadata": {
      "needs_background": "light"
     },
     "output_type": "display_data"
    }
   ],
   "source": [
    "fig, ax = plt.subplots(figsize=(20,7))\n",
    "\n",
    "ax.set_title('Hurricane Michael - Mexico Beach, Fl',\n",
    "            fontsize=30)\n",
    "\n",
    "ax.set_ylabel('Tweets per day',\n",
    "             fontsize=30)\n",
    "ax.set_xlabel('Landfall 2pm EDT (18:00 UTC) October 10, 2018',\n",
    "             fontsize=20, color='r')\n",
    "\n",
    "ax.plot(df.resample('d').count())\n",
    "plt.axvline(x='2018-10-10 18:00:00', color='r')"
   ]
  },
  {
   "cell_type": "markdown",
   "metadata": {},
   "source": [
    "### Do some exploratory data analysis of the tweet text. Test aggregating all the tweet text by hour. "
   ]
  },
  {
   "cell_type": "code",
   "execution_count": 125,
   "metadata": {},
   "outputs": [
    {
     "data": {
      "text/plain": [
       "\"Sorry fellas, she’s unaVEILable! #HechtYeaIDo #joiningjordan\\n\\n👰🏽\\nShop my look by clicking this link —&gt; https://t.co/JKFHxk2xOQ \\nOr screenshot to shop on the https://t.co/lgaMntMElS app! #liketkit… https://t.co/MLeLYTc1lTThese two did it ALL this weekend at the beach. #Brothers @ Shell Island White Sand Beach https://t.co/FtMa1krCAo🍍🍍🍍🍍🍍🍍 @ Pineapple Willy's Restaurant https://t.co/pZILxSXKLj\""
      ]
     },
     "execution_count": 125,
     "metadata": {},
     "output_type": "execute_result"
    }
   ],
   "source": [
    "type(df.resample('h').agg({'full_text':np.sum}))\n",
    "# pandas.core.frame.DataFrame\n",
    "df.resample('h').agg({'full_text':np.sum}).iloc[0]['full_text']"
   ]
  },
  {
   "cell_type": "code",
   "execution_count": 134,
   "metadata": {},
   "outputs": [
    {
     "data": {
      "text/plain": [
       "\"Sorry fellas, she’s unaVEILable! #HechtYeaIDo #joiningjordan\\n\\n👰🏽\\nShop my look by clicking this link —&gt; https://t.co/JKFHxk2xOQ \\nOr screenshot to shop on the https://t.co/lgaMntMElS app! #liketkit… https://t.co/MLeLYTc1lT ~|~ These two did it ALL this weekend at the beach. #Brothers @ Shell Island White Sand Beach https://t.co/FtMa1krCAo ~|~ 🍍🍍🍍🍍🍍🍍 @ Pineapple Willy's Restaurant https://t.co/pZILxSXKLj\""
      ]
     },
     "execution_count": 134,
     "metadata": {},
     "output_type": "execute_result"
    }
   ],
   "source": [
    "df.resample('h').agg({'full_text':' ~|~ '.join})\n",
    "df.resample('h').agg({'full_text':' ~|~ '.join}).iloc[0]['full_text']"
   ]
  },
  {
   "cell_type": "code",
   "execution_count": 135,
   "metadata": {},
   "outputs": [
    {
     "data": {
      "text/plain": [
       "'Happy birthday to my little princess!!!  Love you ❤️ #BirthdayTrip #ApuestaPagada ☑️ @ Schuckums Oyster Pub &amp; Seafood Grill https://t.co/A3MBNxxBzB ~|~ ✨weekend vibes✨ This has been such a fun weekend, with a trip to @TROYUnews for Parent’s Day, a troytrojansfootball win, and dinner with jakefff70 @_okay_its_sam_ hmarie_b matthewcostin1 &amp;… https://t.co/WD5qMEsTLF'"
      ]
     },
     "execution_count": 135,
     "metadata": {},
     "output_type": "execute_result"
    }
   ],
   "source": [
    "df.resample('h').agg({'full_text':' ~|~ '.join}).iloc[1]['full_text']"
   ]
  },
  {
   "cell_type": "code",
   "execution_count": 136,
   "metadata": {},
   "outputs": [
    {
     "data": {
      "text/html": [
       "<div>\n",
       "<style scoped>\n",
       "    .dataframe tbody tr th:only-of-type {\n",
       "        vertical-align: middle;\n",
       "    }\n",
       "\n",
       "    .dataframe tbody tr th {\n",
       "        vertical-align: top;\n",
       "    }\n",
       "\n",
       "    .dataframe thead th {\n",
       "        text-align: right;\n",
       "    }\n",
       "</style>\n",
       "<table border=\"1\" class=\"dataframe\">\n",
       "  <thead>\n",
       "    <tr style=\"text-align: right;\">\n",
       "      <th></th>\n",
       "      <th>count</th>\n",
       "    </tr>\n",
       "    <tr>\n",
       "      <th>date_utc</th>\n",
       "      <th></th>\n",
       "    </tr>\n",
       "  </thead>\n",
       "  <tbody>\n",
       "    <tr>\n",
       "      <th>2018-10-01 00:00:00+00:00</th>\n",
       "      <td>3</td>\n",
       "    </tr>\n",
       "    <tr>\n",
       "      <th>2018-10-01 01:00:00+00:00</th>\n",
       "      <td>2</td>\n",
       "    </tr>\n",
       "    <tr>\n",
       "      <th>2018-10-01 02:00:00+00:00</th>\n",
       "      <td>4</td>\n",
       "    </tr>\n",
       "    <tr>\n",
       "      <th>2018-10-01 03:00:00+00:00</th>\n",
       "      <td>4</td>\n",
       "    </tr>\n",
       "    <tr>\n",
       "      <th>2018-10-01 04:00:00+00:00</th>\n",
       "      <td>0</td>\n",
       "    </tr>\n",
       "  </tbody>\n",
       "</table>\n",
       "</div>"
      ],
      "text/plain": [
       "                           count\n",
       "date_utc                        \n",
       "2018-10-01 00:00:00+00:00      3\n",
       "2018-10-01 01:00:00+00:00      2\n",
       "2018-10-01 02:00:00+00:00      4\n",
       "2018-10-01 03:00:00+00:00      4\n",
       "2018-10-01 04:00:00+00:00      0"
      ]
     },
     "execution_count": 136,
     "metadata": {},
     "output_type": "execute_result"
    }
   ],
   "source": [
    "type(df_hourly_count) # pandas.core.frame.DataFrame\n",
    "df_hourly_count # 408 rows × 1 columns\n",
    "df_hourly_count.head()"
   ]
  },
  {
   "cell_type": "markdown",
   "metadata": {},
   "source": [
    "### Rename the \"full_text\" column to the more meaningful \"count\""
   ]
  },
  {
   "cell_type": "code",
   "execution_count": 137,
   "metadata": {},
   "outputs": [
    {
     "data": {
      "text/html": [
       "<div>\n",
       "<style scoped>\n",
       "    .dataframe tbody tr th:only-of-type {\n",
       "        vertical-align: middle;\n",
       "    }\n",
       "\n",
       "    .dataframe tbody tr th {\n",
       "        vertical-align: top;\n",
       "    }\n",
       "\n",
       "    .dataframe thead th {\n",
       "        text-align: right;\n",
       "    }\n",
       "</style>\n",
       "<table border=\"1\" class=\"dataframe\">\n",
       "  <thead>\n",
       "    <tr style=\"text-align: right;\">\n",
       "      <th></th>\n",
       "      <th>count</th>\n",
       "    </tr>\n",
       "    <tr>\n",
       "      <th>date_utc</th>\n",
       "      <th></th>\n",
       "    </tr>\n",
       "  </thead>\n",
       "  <tbody>\n",
       "    <tr>\n",
       "      <th>2018-10-01 00:00:00+00:00</th>\n",
       "      <td>3</td>\n",
       "    </tr>\n",
       "    <tr>\n",
       "      <th>2018-10-01 01:00:00+00:00</th>\n",
       "      <td>2</td>\n",
       "    </tr>\n",
       "    <tr>\n",
       "      <th>2018-10-01 02:00:00+00:00</th>\n",
       "      <td>4</td>\n",
       "    </tr>\n",
       "    <tr>\n",
       "      <th>2018-10-01 03:00:00+00:00</th>\n",
       "      <td>4</td>\n",
       "    </tr>\n",
       "    <tr>\n",
       "      <th>2018-10-01 04:00:00+00:00</th>\n",
       "      <td>0</td>\n",
       "    </tr>\n",
       "  </tbody>\n",
       "</table>\n",
       "</div>"
      ],
      "text/plain": [
       "                           count\n",
       "date_utc                        \n",
       "2018-10-01 00:00:00+00:00      3\n",
       "2018-10-01 01:00:00+00:00      2\n",
       "2018-10-01 02:00:00+00:00      4\n",
       "2018-10-01 03:00:00+00:00      4\n",
       "2018-10-01 04:00:00+00:00      0"
      ]
     },
     "execution_count": 137,
     "metadata": {},
     "output_type": "execute_result"
    }
   ],
   "source": [
    "df_hourly_count.rename(columns={'full_text':'count'}, inplace=True)\n",
    "df_hourly_count"
   ]
  },
  {
   "cell_type": "markdown",
   "metadata": {},
   "source": [
    "### Create a dataset that combines the text of all the tweets in a given hour together."
   ]
  },
  {
   "cell_type": "code",
   "execution_count": 138,
   "metadata": {},
   "outputs": [
    {
     "data": {
      "text/html": [
       "<div>\n",
       "<style scoped>\n",
       "    .dataframe tbody tr th:only-of-type {\n",
       "        vertical-align: middle;\n",
       "    }\n",
       "\n",
       "    .dataframe tbody tr th {\n",
       "        vertical-align: top;\n",
       "    }\n",
       "\n",
       "    .dataframe thead th {\n",
       "        text-align: right;\n",
       "    }\n",
       "</style>\n",
       "<table border=\"1\" class=\"dataframe\">\n",
       "  <thead>\n",
       "    <tr style=\"text-align: right;\">\n",
       "      <th></th>\n",
       "      <th>full_text</th>\n",
       "    </tr>\n",
       "    <tr>\n",
       "      <th>date_utc</th>\n",
       "      <th></th>\n",
       "    </tr>\n",
       "  </thead>\n",
       "  <tbody>\n",
       "    <tr>\n",
       "      <th>2018-10-01 00:00:00+00:00</th>\n",
       "      <td>Sorry fellas, she’s unaVEILable! #HechtYeaIDo ...</td>\n",
       "    </tr>\n",
       "    <tr>\n",
       "      <th>2018-10-01 01:00:00+00:00</th>\n",
       "      <td>Happy birthday to my little princess!!!  Love ...</td>\n",
       "    </tr>\n",
       "    <tr>\n",
       "      <th>2018-10-01 02:00:00+00:00</th>\n",
       "      <td>At 4:24 PM EDT, 2 S Panama City [Bay Co, FL] O...</td>\n",
       "    </tr>\n",
       "    <tr>\n",
       "      <th>2018-10-01 03:00:00+00:00</th>\n",
       "      <td>#old pic, and yeah I think I forgot how to whe...</td>\n",
       "    </tr>\n",
       "    <tr>\n",
       "      <th>2018-10-01 04:00:00+00:00</th>\n",
       "      <td></td>\n",
       "    </tr>\n",
       "  </tbody>\n",
       "</table>\n",
       "</div>"
      ],
      "text/plain": [
       "                                                                   full_text\n",
       "date_utc                                                                    \n",
       "2018-10-01 00:00:00+00:00  Sorry fellas, she’s unaVEILable! #HechtYeaIDo ...\n",
       "2018-10-01 01:00:00+00:00  Happy birthday to my little princess!!!  Love ...\n",
       "2018-10-01 02:00:00+00:00  At 4:24 PM EDT, 2 S Panama City [Bay Co, FL] O...\n",
       "2018-10-01 03:00:00+00:00  #old pic, and yeah I think I forgot how to whe...\n",
       "2018-10-01 04:00:00+00:00                                                   "
      ]
     },
     "execution_count": 138,
     "metadata": {},
     "output_type": "execute_result"
    }
   ],
   "source": [
    "df_hourly_text = df.resample('h').agg({'full_text':' ~|~ '.join})\n",
    "df_hourly_text # 408 rows × 1 columns\n",
    "df_hourly_text.head()"
   ]
  },
  {
   "cell_type": "markdown",
   "metadata": {},
   "source": [
    "### Rename the combined text column from \"full_text\" to the more meaningful \"hourly_text\""
   ]
  },
  {
   "cell_type": "code",
   "execution_count": 139,
   "metadata": {},
   "outputs": [
    {
     "data": {
      "text/html": [
       "<div>\n",
       "<style scoped>\n",
       "    .dataframe tbody tr th:only-of-type {\n",
       "        vertical-align: middle;\n",
       "    }\n",
       "\n",
       "    .dataframe tbody tr th {\n",
       "        vertical-align: top;\n",
       "    }\n",
       "\n",
       "    .dataframe thead th {\n",
       "        text-align: right;\n",
       "    }\n",
       "</style>\n",
       "<table border=\"1\" class=\"dataframe\">\n",
       "  <thead>\n",
       "    <tr style=\"text-align: right;\">\n",
       "      <th></th>\n",
       "      <th>hourly_text</th>\n",
       "    </tr>\n",
       "    <tr>\n",
       "      <th>date_utc</th>\n",
       "      <th></th>\n",
       "    </tr>\n",
       "  </thead>\n",
       "  <tbody>\n",
       "    <tr>\n",
       "      <th>2018-10-01 00:00:00+00:00</th>\n",
       "      <td>Sorry fellas, she’s unaVEILable! #HechtYeaIDo ...</td>\n",
       "    </tr>\n",
       "    <tr>\n",
       "      <th>2018-10-01 01:00:00+00:00</th>\n",
       "      <td>Happy birthday to my little princess!!!  Love ...</td>\n",
       "    </tr>\n",
       "    <tr>\n",
       "      <th>2018-10-01 02:00:00+00:00</th>\n",
       "      <td>At 4:24 PM EDT, 2 S Panama City [Bay Co, FL] O...</td>\n",
       "    </tr>\n",
       "    <tr>\n",
       "      <th>2018-10-01 03:00:00+00:00</th>\n",
       "      <td>#old pic, and yeah I think I forgot how to whe...</td>\n",
       "    </tr>\n",
       "    <tr>\n",
       "      <th>2018-10-01 04:00:00+00:00</th>\n",
       "      <td></td>\n",
       "    </tr>\n",
       "  </tbody>\n",
       "</table>\n",
       "</div>"
      ],
      "text/plain": [
       "                                                                 hourly_text\n",
       "date_utc                                                                    \n",
       "2018-10-01 00:00:00+00:00  Sorry fellas, she’s unaVEILable! #HechtYeaIDo ...\n",
       "2018-10-01 01:00:00+00:00  Happy birthday to my little princess!!!  Love ...\n",
       "2018-10-01 02:00:00+00:00  At 4:24 PM EDT, 2 S Panama City [Bay Co, FL] O...\n",
       "2018-10-01 03:00:00+00:00  #old pic, and yeah I think I forgot how to whe...\n",
       "2018-10-01 04:00:00+00:00                                                   "
      ]
     },
     "execution_count": 139,
     "metadata": {},
     "output_type": "execute_result"
    }
   ],
   "source": [
    "df_hourly_text.rename(columns={'full_text':'hourly_text'}, inplace=True)\n",
    "df_hourly_text.head()"
   ]
  },
  {
   "cell_type": "markdown",
   "metadata": {},
   "source": [
    "### Combine the two separate datasets with the hourly count and the hourly text into one dataset."
   ]
  },
  {
   "cell_type": "code",
   "execution_count": 140,
   "metadata": {},
   "outputs": [
    {
     "data": {
      "text/html": [
       "<div>\n",
       "<style scoped>\n",
       "    .dataframe tbody tr th:only-of-type {\n",
       "        vertical-align: middle;\n",
       "    }\n",
       "\n",
       "    .dataframe tbody tr th {\n",
       "        vertical-align: top;\n",
       "    }\n",
       "\n",
       "    .dataframe thead th {\n",
       "        text-align: right;\n",
       "    }\n",
       "</style>\n",
       "<table border=\"1\" class=\"dataframe\">\n",
       "  <thead>\n",
       "    <tr style=\"text-align: right;\">\n",
       "      <th></th>\n",
       "      <th>count</th>\n",
       "      <th>hourly_text</th>\n",
       "    </tr>\n",
       "    <tr>\n",
       "      <th>date_utc</th>\n",
       "      <th></th>\n",
       "      <th></th>\n",
       "    </tr>\n",
       "  </thead>\n",
       "  <tbody>\n",
       "    <tr>\n",
       "      <th>2018-10-01 00:00:00+00:00</th>\n",
       "      <td>3</td>\n",
       "      <td>Sorry fellas, she’s unaVEILable! #HechtYeaIDo ...</td>\n",
       "    </tr>\n",
       "    <tr>\n",
       "      <th>2018-10-01 01:00:00+00:00</th>\n",
       "      <td>2</td>\n",
       "      <td>Happy birthday to my little princess!!!  Love ...</td>\n",
       "    </tr>\n",
       "    <tr>\n",
       "      <th>2018-10-01 02:00:00+00:00</th>\n",
       "      <td>4</td>\n",
       "      <td>At 4:24 PM EDT, 2 S Panama City [Bay Co, FL] O...</td>\n",
       "    </tr>\n",
       "    <tr>\n",
       "      <th>2018-10-01 03:00:00+00:00</th>\n",
       "      <td>4</td>\n",
       "      <td>#old pic, and yeah I think I forgot how to whe...</td>\n",
       "    </tr>\n",
       "    <tr>\n",
       "      <th>2018-10-01 04:00:00+00:00</th>\n",
       "      <td>0</td>\n",
       "      <td></td>\n",
       "    </tr>\n",
       "  </tbody>\n",
       "</table>\n",
       "</div>"
      ],
      "text/plain": [
       "                           count  \\\n",
       "date_utc                           \n",
       "2018-10-01 00:00:00+00:00      3   \n",
       "2018-10-01 01:00:00+00:00      2   \n",
       "2018-10-01 02:00:00+00:00      4   \n",
       "2018-10-01 03:00:00+00:00      4   \n",
       "2018-10-01 04:00:00+00:00      0   \n",
       "\n",
       "                                                                 hourly_text  \n",
       "date_utc                                                                      \n",
       "2018-10-01 00:00:00+00:00  Sorry fellas, she’s unaVEILable! #HechtYeaIDo ...  \n",
       "2018-10-01 01:00:00+00:00  Happy birthday to my little princess!!!  Love ...  \n",
       "2018-10-01 02:00:00+00:00  At 4:24 PM EDT, 2 S Panama City [Bay Co, FL] O...  \n",
       "2018-10-01 03:00:00+00:00  #old pic, and yeah I think I forgot how to whe...  \n",
       "2018-10-01 04:00:00+00:00                                                     "
      ]
     },
     "execution_count": 140,
     "metadata": {},
     "output_type": "execute_result"
    }
   ],
   "source": [
    "df_time_series = pd.concat([df_hourly_count, df_hourly_text], axis=1) # 408 rows × 2 columns\n",
    "df_time_series.head()"
   ]
  },
  {
   "cell_type": "markdown",
   "metadata": {},
   "source": [
    "### Rename the 'count' column in the combined dataset to \"tweet_count\""
   ]
  },
  {
   "cell_type": "code",
   "execution_count": 141,
   "metadata": {},
   "outputs": [
    {
     "data": {
      "text/html": [
       "<div>\n",
       "<style scoped>\n",
       "    .dataframe tbody tr th:only-of-type {\n",
       "        vertical-align: middle;\n",
       "    }\n",
       "\n",
       "    .dataframe tbody tr th {\n",
       "        vertical-align: top;\n",
       "    }\n",
       "\n",
       "    .dataframe thead th {\n",
       "        text-align: right;\n",
       "    }\n",
       "</style>\n",
       "<table border=\"1\" class=\"dataframe\">\n",
       "  <thead>\n",
       "    <tr style=\"text-align: right;\">\n",
       "      <th></th>\n",
       "      <th>tweet_count</th>\n",
       "      <th>hourly_text</th>\n",
       "    </tr>\n",
       "    <tr>\n",
       "      <th>date_utc</th>\n",
       "      <th></th>\n",
       "      <th></th>\n",
       "    </tr>\n",
       "  </thead>\n",
       "  <tbody>\n",
       "    <tr>\n",
       "      <th>2018-10-01 00:00:00+00:00</th>\n",
       "      <td>3</td>\n",
       "      <td>Sorry fellas, she’s unaVEILable! #HechtYeaIDo ...</td>\n",
       "    </tr>\n",
       "    <tr>\n",
       "      <th>2018-10-01 01:00:00+00:00</th>\n",
       "      <td>2</td>\n",
       "      <td>Happy birthday to my little princess!!!  Love ...</td>\n",
       "    </tr>\n",
       "    <tr>\n",
       "      <th>2018-10-01 02:00:00+00:00</th>\n",
       "      <td>4</td>\n",
       "      <td>At 4:24 PM EDT, 2 S Panama City [Bay Co, FL] O...</td>\n",
       "    </tr>\n",
       "    <tr>\n",
       "      <th>2018-10-01 03:00:00+00:00</th>\n",
       "      <td>4</td>\n",
       "      <td>#old pic, and yeah I think I forgot how to whe...</td>\n",
       "    </tr>\n",
       "    <tr>\n",
       "      <th>2018-10-01 04:00:00+00:00</th>\n",
       "      <td>0</td>\n",
       "      <td></td>\n",
       "    </tr>\n",
       "  </tbody>\n",
       "</table>\n",
       "</div>"
      ],
      "text/plain": [
       "                           tweet_count  \\\n",
       "date_utc                                 \n",
       "2018-10-01 00:00:00+00:00            3   \n",
       "2018-10-01 01:00:00+00:00            2   \n",
       "2018-10-01 02:00:00+00:00            4   \n",
       "2018-10-01 03:00:00+00:00            4   \n",
       "2018-10-01 04:00:00+00:00            0   \n",
       "\n",
       "                                                                 hourly_text  \n",
       "date_utc                                                                      \n",
       "2018-10-01 00:00:00+00:00  Sorry fellas, she’s unaVEILable! #HechtYeaIDo ...  \n",
       "2018-10-01 01:00:00+00:00  Happy birthday to my little princess!!!  Love ...  \n",
       "2018-10-01 02:00:00+00:00  At 4:24 PM EDT, 2 S Panama City [Bay Co, FL] O...  \n",
       "2018-10-01 03:00:00+00:00  #old pic, and yeah I think I forgot how to whe...  \n",
       "2018-10-01 04:00:00+00:00                                                     "
      ]
     },
     "execution_count": 141,
     "metadata": {},
     "output_type": "execute_result"
    }
   ],
   "source": [
    "df_time_series['count']==0\n",
    "df_time_series.rename(columns={'count':'tweet_count'}, inplace=True)\n",
    "df_time_series.head()"
   ]
  },
  {
   "cell_type": "markdown",
   "metadata": {},
   "source": [
    "### Drop the hourly observations which have zero tweets"
   ]
  },
  {
   "cell_type": "code",
   "execution_count": 151,
   "metadata": {},
   "outputs": [
    {
     "data": {
      "text/plain": [
       "(341, 2)"
      ]
     },
     "execution_count": 151,
     "metadata": {},
     "output_type": "execute_result"
    }
   ],
   "source": [
    "df_time_series[df_time_series.tweet_count==0] # 67 rows × 2 columns\n",
    "#df_time_series.shape # (408, 2)\n",
    "#df_time_series.drop(df_time_series.tweet_count==0, axis=1)\n",
    "df_time_series[df_time_series.tweet_count!=0] # 341 rows × 2 columns\n",
    "df_time_series = df_time_series[df_time_series.tweet_count!=0] \n",
    "df_time_series.shape # (341, 2)"
   ]
  },
  {
   "cell_type": "markdown",
   "metadata": {},
   "source": [
    "### Save the combined data out to a file"
   ]
  },
  {
   "cell_type": "code",
   "execution_count": 154,
   "metadata": {},
   "outputs": [],
   "source": [
    "#df_time_series.to_json('tweets_df_michael_time_series_oct.json', orient='records')\n",
    "#df_time_series.to_json('tweets_df_michael_time_series_oct.json',)"
   ]
  }
 ],
 "metadata": {
  "kernelspec": {
   "display_name": "Python 3",
   "language": "python",
   "name": "python3"
  },
  "language_info": {
   "codemirror_mode": {
    "name": "ipython",
    "version": 3
   },
   "file_extension": ".py",
   "mimetype": "text/x-python",
   "name": "python",
   "nbconvert_exporter": "python",
   "pygments_lexer": "ipython3",
   "version": "3.7.0"
  }
 },
 "nbformat": 4,
 "nbformat_minor": 2
}
