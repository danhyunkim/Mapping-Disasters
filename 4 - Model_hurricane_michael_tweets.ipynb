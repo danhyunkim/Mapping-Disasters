{
 "cells": [
  {
   "cell_type": "markdown",
   "metadata": {},
   "source": [
    "# Project 4 - Client Problem #1: \n",
    "# Leveraging Social Media to Map Disasters\n",
    "# Modelling the hurricane tweets"
   ]
  },
  {
   "cell_type": "markdown",
   "metadata": {},
   "source": [
    "### This model will identify the Hurricane impact without classifying individual tweets. \n",
    "\n",
    "### Each observation will be a period of time (1 hour here) for a given geographical location. Historical data will be used to label each observation as to whether there was Hurricane impact at the time. \n",
    "\n",
    "### The model will then identify the most important words etc in the text that indicates that there is a natural disaster impact. This is done as part of the training process."
   ]
  },
  {
   "cell_type": "code",
   "execution_count": 43,
   "metadata": {},
   "outputs": [],
   "source": [
    "import json\n",
    "import pandas as pd\n",
    "from pprint import pprint\n",
    "import datetime\n",
    "\n",
    "import numpy as np\n",
    "\n",
    "from sklearn.feature_extraction.text import CountVectorizer\n",
    "from sklearn.linear_model import LogisticRegressionCV\n",
    "from sklearn.model_selection import train_test_split\n",
    "\n",
    "import matplotlib.pyplot as plt"
   ]
  },
  {
   "cell_type": "markdown",
   "metadata": {},
   "source": [
    "### Read in the file that was saved after the Exploratory Data Analysis was complete"
   ]
  },
  {
   "cell_type": "code",
   "execution_count": 2,
   "metadata": {},
   "outputs": [],
   "source": [
    "df = pd.read_json('tweets_df_michael_time_series_oct.json')"
   ]
  },
  {
   "cell_type": "code",
   "execution_count": 3,
   "metadata": {},
   "outputs": [
    {
     "data": {
      "text/html": [
       "<div>\n",
       "<style scoped>\n",
       "    .dataframe tbody tr th:only-of-type {\n",
       "        vertical-align: middle;\n",
       "    }\n",
       "\n",
       "    .dataframe tbody tr th {\n",
       "        vertical-align: top;\n",
       "    }\n",
       "\n",
       "    .dataframe thead th {\n",
       "        text-align: right;\n",
       "    }\n",
       "</style>\n",
       "<table border=\"1\" class=\"dataframe\">\n",
       "  <thead>\n",
       "    <tr style=\"text-align: right;\">\n",
       "      <th></th>\n",
       "      <th>tweet_count</th>\n",
       "      <th>hourly_text</th>\n",
       "    </tr>\n",
       "  </thead>\n",
       "  <tbody>\n",
       "    <tr>\n",
       "      <th>2018-10-01 00:00:00</th>\n",
       "      <td>3</td>\n",
       "      <td>Sorry fellas, she’s unaVEILable! #HechtYeaIDo ...</td>\n",
       "    </tr>\n",
       "    <tr>\n",
       "      <th>2018-10-01 01:00:00</th>\n",
       "      <td>2</td>\n",
       "      <td>Happy birthday to my little princess!!!  Love ...</td>\n",
       "    </tr>\n",
       "    <tr>\n",
       "      <th>2018-10-01 02:00:00</th>\n",
       "      <td>4</td>\n",
       "      <td>At 4:24 PM EDT, 2 S Panama City [Bay Co, FL] O...</td>\n",
       "    </tr>\n",
       "    <tr>\n",
       "      <th>2018-10-01 03:00:00</th>\n",
       "      <td>4</td>\n",
       "      <td>#old pic, and yeah I think I forgot how to whe...</td>\n",
       "    </tr>\n",
       "    <tr>\n",
       "      <th>2018-10-01 09:00:00</th>\n",
       "      <td>1</td>\n",
       "      <td>We saved carbs all week for this, and it was w...</td>\n",
       "    </tr>\n",
       "  </tbody>\n",
       "</table>\n",
       "</div>"
      ],
      "text/plain": [
       "                     tweet_count  \\\n",
       "2018-10-01 00:00:00            3   \n",
       "2018-10-01 01:00:00            2   \n",
       "2018-10-01 02:00:00            4   \n",
       "2018-10-01 03:00:00            4   \n",
       "2018-10-01 09:00:00            1   \n",
       "\n",
       "                                                           hourly_text  \n",
       "2018-10-01 00:00:00  Sorry fellas, she’s unaVEILable! #HechtYeaIDo ...  \n",
       "2018-10-01 01:00:00  Happy birthday to my little princess!!!  Love ...  \n",
       "2018-10-01 02:00:00  At 4:24 PM EDT, 2 S Panama City [Bay Co, FL] O...  \n",
       "2018-10-01 03:00:00  #old pic, and yeah I think I forgot how to whe...  \n",
       "2018-10-01 09:00:00  We saved carbs all week for this, and it was w...  "
      ]
     },
     "execution_count": 3,
     "metadata": {},
     "output_type": "execute_result"
    }
   ],
   "source": [
    "df.head()"
   ]
  },
  {
   "cell_type": "code",
   "execution_count": 4,
   "metadata": {},
   "outputs": [
    {
     "data": {
      "text/plain": [
       "(341, 2)"
      ]
     },
     "execution_count": 4,
     "metadata": {},
     "output_type": "execute_result"
    }
   ],
   "source": [
    "df.shape # (341, 2)"
   ]
  },
  {
   "cell_type": "code",
   "execution_count": 7,
   "metadata": {},
   "outputs": [
    {
     "data": {
      "text/plain": [
       "tweet_count                                                    3\n",
       "hourly_text    Sorry fellas, she’s unaVEILable! #HechtYeaIDo ...\n",
       "Name: 2018-10-01 00:00:00, dtype: object"
      ]
     },
     "execution_count": 7,
     "metadata": {},
     "output_type": "execute_result"
    }
   ],
   "source": [
    "df.iloc[0]"
   ]
  },
  {
   "cell_type": "code",
   "execution_count": 6,
   "metadata": {},
   "outputs": [
    {
     "data": {
      "text/plain": [
       "\"Sorry fellas, she’s unaVEILable! #HechtYeaIDo #joiningjordan\\n\\n👰🏽\\nShop my look by clicking this link —&gt; https://t.co/JKFHxk2xOQ \\nOr screenshot to shop on the https://t.co/lgaMntMElS app! #liketkit… https://t.co/MLeLYTc1lT ~|~ These two did it ALL this weekend at the beach. #Brothers @ Shell Island White Sand Beach https://t.co/FtMa1krCAo ~|~ 🍍🍍🍍🍍🍍🍍 @ Pineapple Willy's Restaurant https://t.co/pZILxSXKLj\""
      ]
     },
     "execution_count": 6,
     "metadata": {},
     "output_type": "execute_result"
    }
   ],
   "source": [
    "df.iloc[0].hourly_text"
   ]
  },
  {
   "cell_type": "markdown",
   "metadata": {},
   "source": [
    "### Get the count of all the tweets on the day Hurricane Michael made landfall"
   ]
  },
  {
   "cell_type": "code",
   "execution_count": 18,
   "metadata": {},
   "outputs": [
    {
     "data": {
      "text/plain": [
       "(23, 2)"
      ]
     },
     "execution_count": 18,
     "metadata": {},
     "output_type": "execute_result"
    }
   ],
   "source": [
    "np.sum(df['2018-10-10']) # tweet_count: 149\n",
    "df['2018-10-10'].shape # (23, 2)"
   ]
  },
  {
   "cell_type": "markdown",
   "metadata": {},
   "source": [
    "### Create a target column as the label for prediction training. Initially default it to zero."
   ]
  },
  {
   "cell_type": "code",
   "execution_count": 24,
   "metadata": {},
   "outputs": [],
   "source": [
    "df['target'] = 0"
   ]
  },
  {
   "cell_type": "code",
   "execution_count": 25,
   "metadata": {},
   "outputs": [
    {
     "data": {
      "text/html": [
       "<div>\n",
       "<style scoped>\n",
       "    .dataframe tbody tr th:only-of-type {\n",
       "        vertical-align: middle;\n",
       "    }\n",
       "\n",
       "    .dataframe tbody tr th {\n",
       "        vertical-align: top;\n",
       "    }\n",
       "\n",
       "    .dataframe thead th {\n",
       "        text-align: right;\n",
       "    }\n",
       "</style>\n",
       "<table border=\"1\" class=\"dataframe\">\n",
       "  <thead>\n",
       "    <tr style=\"text-align: right;\">\n",
       "      <th></th>\n",
       "      <th>tweet_count</th>\n",
       "      <th>hourly_text</th>\n",
       "      <th>target</th>\n",
       "    </tr>\n",
       "  </thead>\n",
       "  <tbody>\n",
       "    <tr>\n",
       "      <th>2018-10-01 00:00:00</th>\n",
       "      <td>3</td>\n",
       "      <td>Sorry fellas, she’s unaVEILable! #HechtYeaIDo ...</td>\n",
       "      <td>0</td>\n",
       "    </tr>\n",
       "    <tr>\n",
       "      <th>2018-10-01 01:00:00</th>\n",
       "      <td>2</td>\n",
       "      <td>Happy birthday to my little princess!!!  Love ...</td>\n",
       "      <td>0</td>\n",
       "    </tr>\n",
       "    <tr>\n",
       "      <th>2018-10-01 02:00:00</th>\n",
       "      <td>4</td>\n",
       "      <td>At 4:24 PM EDT, 2 S Panama City [Bay Co, FL] O...</td>\n",
       "      <td>0</td>\n",
       "    </tr>\n",
       "    <tr>\n",
       "      <th>2018-10-01 03:00:00</th>\n",
       "      <td>4</td>\n",
       "      <td>#old pic, and yeah I think I forgot how to whe...</td>\n",
       "      <td>0</td>\n",
       "    </tr>\n",
       "    <tr>\n",
       "      <th>2018-10-01 09:00:00</th>\n",
       "      <td>1</td>\n",
       "      <td>We saved carbs all week for this, and it was w...</td>\n",
       "      <td>0</td>\n",
       "    </tr>\n",
       "  </tbody>\n",
       "</table>\n",
       "</div>"
      ],
      "text/plain": [
       "                     tweet_count  \\\n",
       "2018-10-01 00:00:00            3   \n",
       "2018-10-01 01:00:00            2   \n",
       "2018-10-01 02:00:00            4   \n",
       "2018-10-01 03:00:00            4   \n",
       "2018-10-01 09:00:00            1   \n",
       "\n",
       "                                                           hourly_text  target  \n",
       "2018-10-01 00:00:00  Sorry fellas, she’s unaVEILable! #HechtYeaIDo ...       0  \n",
       "2018-10-01 01:00:00  Happy birthday to my little princess!!!  Love ...       0  \n",
       "2018-10-01 02:00:00  At 4:24 PM EDT, 2 S Panama City [Bay Co, FL] O...       0  \n",
       "2018-10-01 03:00:00  #old pic, and yeah I think I forgot how to whe...       0  \n",
       "2018-10-01 09:00:00  We saved carbs all week for this, and it was w...       0  "
      ]
     },
     "execution_count": 25,
     "metadata": {},
     "output_type": "execute_result"
    }
   ],
   "source": [
    "df.head()"
   ]
  },
  {
   "cell_type": "markdown",
   "metadata": {},
   "source": [
    "## Hurricane Michael made landfall at Mexico Beach on Oct 10, 2018 at 2pm EDT. That was 6pm UTC which is what the Twitter timestamps use.\n",
    "\n",
    "#### We are going to arbitrarily set the target time (when we are trying to detect the presence of the hurricane) to 24 hours before and 72 hours after. This would be from Oct 9, 6pm UTC to Oct 13, 6pm UTC"
   ]
  },
  {
   "cell_type": "code",
   "execution_count": 31,
   "metadata": {},
   "outputs": [
    {
     "name": "stderr",
     "output_type": "stream",
     "text": [
      "/anaconda3/lib/python3.7/site-packages/pandas/core/generic.py:4405: SettingWithCopyWarning: \n",
      "A value is trying to be set on a copy of a slice from a DataFrame.\n",
      "Try using .loc[row_indexer,col_indexer] = value instead\n",
      "\n",
      "See the caveats in the documentation: http://pandas.pydata.org/pandas-docs/stable/indexing.html#indexing-view-versus-copy\n",
      "  self[name] = value\n"
     ]
    }
   ],
   "source": [
    "df['2018-10-09 18:00:00':'2018-10-13 18:00:00']\n",
    "df['2018-10-09 18:00:00':'2018-10-13 18:00:00'].target = 1\n",
    "df.loc['2018-10-09 18:00:00':'2018-10-13 18:00:00'].target = 1"
   ]
  },
  {
   "cell_type": "code",
   "execution_count": 34,
   "metadata": {},
   "outputs": [
    {
     "data": {
      "text/html": [
       "<div>\n",
       "<style scoped>\n",
       "    .dataframe tbody tr th:only-of-type {\n",
       "        vertical-align: middle;\n",
       "    }\n",
       "\n",
       "    .dataframe tbody tr th {\n",
       "        vertical-align: top;\n",
       "    }\n",
       "\n",
       "    .dataframe thead th {\n",
       "        text-align: right;\n",
       "    }\n",
       "</style>\n",
       "<table border=\"1\" class=\"dataframe\">\n",
       "  <thead>\n",
       "    <tr style=\"text-align: right;\">\n",
       "      <th></th>\n",
       "      <th>tweet_count</th>\n",
       "      <th>hourly_text</th>\n",
       "      <th>target</th>\n",
       "    </tr>\n",
       "  </thead>\n",
       "  <tbody>\n",
       "    <tr>\n",
       "      <th>2018-10-01 00:00:00</th>\n",
       "      <td>3</td>\n",
       "      <td>Sorry fellas, she’s unaVEILable! #HechtYeaIDo ...</td>\n",
       "      <td>0</td>\n",
       "    </tr>\n",
       "    <tr>\n",
       "      <th>2018-10-01 01:00:00</th>\n",
       "      <td>2</td>\n",
       "      <td>Happy birthday to my little princess!!!  Love ...</td>\n",
       "      <td>0</td>\n",
       "    </tr>\n",
       "    <tr>\n",
       "      <th>2018-10-01 02:00:00</th>\n",
       "      <td>4</td>\n",
       "      <td>At 4:24 PM EDT, 2 S Panama City [Bay Co, FL] O...</td>\n",
       "      <td>0</td>\n",
       "    </tr>\n",
       "    <tr>\n",
       "      <th>2018-10-01 03:00:00</th>\n",
       "      <td>4</td>\n",
       "      <td>#old pic, and yeah I think I forgot how to whe...</td>\n",
       "      <td>0</td>\n",
       "    </tr>\n",
       "    <tr>\n",
       "      <th>2018-10-01 09:00:00</th>\n",
       "      <td>1</td>\n",
       "      <td>We saved carbs all week for this, and it was w...</td>\n",
       "      <td>0</td>\n",
       "    </tr>\n",
       "  </tbody>\n",
       "</table>\n",
       "</div>"
      ],
      "text/plain": [
       "                     tweet_count  \\\n",
       "2018-10-01 00:00:00            3   \n",
       "2018-10-01 01:00:00            2   \n",
       "2018-10-01 02:00:00            4   \n",
       "2018-10-01 03:00:00            4   \n",
       "2018-10-01 09:00:00            1   \n",
       "\n",
       "                                                           hourly_text  target  \n",
       "2018-10-01 00:00:00  Sorry fellas, she’s unaVEILable! #HechtYeaIDo ...       0  \n",
       "2018-10-01 01:00:00  Happy birthday to my little princess!!!  Love ...       0  \n",
       "2018-10-01 02:00:00  At 4:24 PM EDT, 2 S Panama City [Bay Co, FL] O...       0  \n",
       "2018-10-01 03:00:00  #old pic, and yeah I think I forgot how to whe...       0  \n",
       "2018-10-01 09:00:00  We saved carbs all week for this, and it was w...       0  "
      ]
     },
     "execution_count": 34,
     "metadata": {},
     "output_type": "execute_result"
    }
   ],
   "source": [
    "df[df.target==1]\n",
    "df.head()"
   ]
  },
  {
   "cell_type": "code",
   "execution_count": 35,
   "metadata": {},
   "outputs": [
    {
     "data": {
      "text/plain": [
       "(341, 3)"
      ]
     },
     "execution_count": 35,
     "metadata": {},
     "output_type": "execute_result"
    }
   ],
   "source": [
    "df.shape # (341, 3)"
   ]
  },
  {
   "cell_type": "markdown",
   "metadata": {},
   "source": [
    "### Set the columns of X to be the tweet count, and the hourly text i.e. the combined text of the tweets in that one hour period."
   ]
  },
  {
   "cell_type": "code",
   "execution_count": 41,
   "metadata": {},
   "outputs": [
    {
     "data": {
      "text/html": [
       "<div>\n",
       "<style scoped>\n",
       "    .dataframe tbody tr th:only-of-type {\n",
       "        vertical-align: middle;\n",
       "    }\n",
       "\n",
       "    .dataframe tbody tr th {\n",
       "        vertical-align: top;\n",
       "    }\n",
       "\n",
       "    .dataframe thead th {\n",
       "        text-align: right;\n",
       "    }\n",
       "</style>\n",
       "<table border=\"1\" class=\"dataframe\">\n",
       "  <thead>\n",
       "    <tr style=\"text-align: right;\">\n",
       "      <th></th>\n",
       "      <th>tweet_count</th>\n",
       "      <th>hourly_text</th>\n",
       "    </tr>\n",
       "  </thead>\n",
       "  <tbody>\n",
       "    <tr>\n",
       "      <th>2018-10-01 00:00:00</th>\n",
       "      <td>3</td>\n",
       "      <td>Sorry fellas, she’s unaVEILable! #HechtYeaIDo ...</td>\n",
       "    </tr>\n",
       "    <tr>\n",
       "      <th>2018-10-01 01:00:00</th>\n",
       "      <td>2</td>\n",
       "      <td>Happy birthday to my little princess!!!  Love ...</td>\n",
       "    </tr>\n",
       "    <tr>\n",
       "      <th>2018-10-01 02:00:00</th>\n",
       "      <td>4</td>\n",
       "      <td>At 4:24 PM EDT, 2 S Panama City [Bay Co, FL] O...</td>\n",
       "    </tr>\n",
       "    <tr>\n",
       "      <th>2018-10-01 03:00:00</th>\n",
       "      <td>4</td>\n",
       "      <td>#old pic, and yeah I think I forgot how to whe...</td>\n",
       "    </tr>\n",
       "    <tr>\n",
       "      <th>2018-10-01 09:00:00</th>\n",
       "      <td>1</td>\n",
       "      <td>We saved carbs all week for this, and it was w...</td>\n",
       "    </tr>\n",
       "  </tbody>\n",
       "</table>\n",
       "</div>"
      ],
      "text/plain": [
       "                     tweet_count  \\\n",
       "2018-10-01 00:00:00            3   \n",
       "2018-10-01 01:00:00            2   \n",
       "2018-10-01 02:00:00            4   \n",
       "2018-10-01 03:00:00            4   \n",
       "2018-10-01 09:00:00            1   \n",
       "\n",
       "                                                           hourly_text  \n",
       "2018-10-01 00:00:00  Sorry fellas, she’s unaVEILable! #HechtYeaIDo ...  \n",
       "2018-10-01 01:00:00  Happy birthday to my little princess!!!  Love ...  \n",
       "2018-10-01 02:00:00  At 4:24 PM EDT, 2 S Panama City [Bay Co, FL] O...  \n",
       "2018-10-01 03:00:00  #old pic, and yeah I think I forgot how to whe...  \n",
       "2018-10-01 09:00:00  We saved carbs all week for this, and it was w...  "
      ]
     },
     "execution_count": 41,
     "metadata": {},
     "output_type": "execute_result"
    }
   ],
   "source": [
    "X = df[['tweet_count', 'hourly_text']]\n",
    "X.head()"
   ]
  },
  {
   "cell_type": "code",
   "execution_count": 42,
   "metadata": {},
   "outputs": [],
   "source": [
    "y = df.target"
   ]
  },
  {
   "cell_type": "code",
   "execution_count": 44,
   "metadata": {},
   "outputs": [],
   "source": [
    "X_train, X_test, y_train, y_test = train_test_split(X,y,random_state=42)"
   ]
  },
  {
   "cell_type": "code",
   "execution_count": 48,
   "metadata": {},
   "outputs": [
    {
     "data": {
      "text/plain": [
       "(86,)"
      ]
     },
     "execution_count": 48,
     "metadata": {},
     "output_type": "execute_result"
    }
   ],
   "source": [
    "X_train.shape # (255, 2)\n",
    "X_test.shape # (86, 2)\n",
    "y_train.shape # (255,)\n",
    "y_test.shape # (86,)"
   ]
  },
  {
   "cell_type": "code",
   "execution_count": 51,
   "metadata": {},
   "outputs": [],
   "source": [
    "# cvect = CountVectorizer(lowercase=True, stop_words='english',max_df=1.0, min_df=1, \n",
    "#                         max_features=None)\n",
    "cvect = CountVectorizer()"
   ]
  },
  {
   "cell_type": "code",
   "execution_count": 63,
   "metadata": {},
   "outputs": [
    {
     "data": {
      "text/plain": [
       "CountVectorizer(analyzer='word', binary=False, decode_error='strict',\n",
       "        dtype=<class 'numpy.int64'>, encoding='utf-8', input='content',\n",
       "        lowercase=True, max_df=1.0, max_features=None, min_df=1,\n",
       "        ngram_range=(1, 1), preprocessor=None, stop_words=None,\n",
       "        strip_accents=None, token_pattern='(?u)\\\\b\\\\w\\\\w+\\\\b',\n",
       "        tokenizer=None, vocabulary=None)"
      ]
     },
     "execution_count": 63,
     "metadata": {},
     "output_type": "execute_result"
    }
   ],
   "source": [
    "cvect.fit(X_train.hourly_text)"
   ]
  },
  {
   "cell_type": "code",
   "execution_count": 69,
   "metadata": {},
   "outputs": [
    {
     "data": {
      "text/plain": [
       "['00', '000', '00pm', '03j9p2auhc', '04']"
      ]
     },
     "execution_count": 69,
     "metadata": {},
     "output_type": "execute_result"
    }
   ],
   "source": [
    "len(cvect.get_feature_names()) # 5085 = X_train\n",
    "# 6187 = X\n",
    "cvect.get_feature_names()[:5]"
   ]
  },
  {
   "cell_type": "code",
   "execution_count": 77,
   "metadata": {},
   "outputs": [],
   "source": [
    "X_train_vect = cvect.transform(X_train.hourly_text)"
   ]
  },
  {
   "cell_type": "code",
   "execution_count": 88,
   "metadata": {},
   "outputs": [
    {
     "data": {
      "text/plain": [
       "array([[0, 0, 0, ..., 0, 0, 0],\n",
       "       [0, 0, 0, ..., 0, 0, 0],\n",
       "       [0, 0, 0, ..., 0, 0, 0],\n",
       "       ...,\n",
       "       [0, 0, 0, ..., 0, 0, 0],\n",
       "       [0, 0, 0, ..., 0, 0, 0],\n",
       "       [0, 0, 0, ..., 0, 0, 0]])"
      ]
     },
     "execution_count": 88,
     "metadata": {},
     "output_type": "execute_result"
    }
   ],
   "source": [
    "X_train_vect\n",
    "# <255x5085 sparse matrix of type '<class 'numpy.int64'>'\n",
    "# \twith 16165 stored elements in Compressed Sparse Row format>\n",
    "X_train_vect.toarray()"
   ]
  },
  {
   "cell_type": "code",
   "execution_count": 74,
   "metadata": {},
   "outputs": [
    {
     "data": {
      "text/plain": [
       "(86, 2)"
      ]
     },
     "execution_count": 74,
     "metadata": {},
     "output_type": "execute_result"
    }
   ],
   "source": [
    "X_train.shape # (255, 2)\n",
    "X.shape # (341, 2)\n",
    "X_test.shape # (86, 2)"
   ]
  },
  {
   "cell_type": "code",
   "execution_count": 80,
   "metadata": {},
   "outputs": [],
   "source": [
    "lr = LogisticRegressionCV()"
   ]
  },
  {
   "cell_type": "code",
   "execution_count": 81,
   "metadata": {},
   "outputs": [
    {
     "name": "stderr",
     "output_type": "stream",
     "text": [
      "/anaconda3/lib/python3.7/site-packages/sklearn/model_selection/_split.py:2053: FutureWarning: You should specify a value for 'cv' instead of relying on the default value. The default value will change from 3 to 5 in version 0.22.\n",
      "  warnings.warn(CV_WARNING, FutureWarning)\n"
     ]
    },
    {
     "data": {
      "text/plain": [
       "LogisticRegressionCV(Cs=10, class_weight=None, cv='warn', dual=False,\n",
       "           fit_intercept=True, intercept_scaling=1.0, max_iter=100,\n",
       "           multi_class='warn', n_jobs=None, penalty='l2',\n",
       "           random_state=None, refit=True, scoring=None, solver='lbfgs',\n",
       "           tol=0.0001, verbose=0)"
      ]
     },
     "execution_count": 81,
     "metadata": {},
     "output_type": "execute_result"
    }
   ],
   "source": [
    "lr.fit(X_train_vect, y_train)"
   ]
  },
  {
   "cell_type": "code",
   "execution_count": 82,
   "metadata": {},
   "outputs": [
    {
     "data": {
      "text/plain": [
       "0.9882352941176471"
      ]
     },
     "execution_count": 82,
     "metadata": {},
     "output_type": "execute_result"
    }
   ],
   "source": [
    "lr.score(X_train_vect, y_train)\n",
    "# 0.9882352941176471"
   ]
  },
  {
   "cell_type": "markdown",
   "metadata": {},
   "source": [
    "### So the training score was 0.988"
   ]
  },
  {
   "cell_type": "code",
   "execution_count": 83,
   "metadata": {},
   "outputs": [],
   "source": [
    "X_test_vect = cvect.transform(X_test.hourly_text)"
   ]
  },
  {
   "cell_type": "code",
   "execution_count": 84,
   "metadata": {},
   "outputs": [
    {
     "data": {
      "text/plain": [
       "0.8255813953488372"
      ]
     },
     "execution_count": 84,
     "metadata": {},
     "output_type": "execute_result"
    }
   ],
   "source": [
    "lr.score(X_test_vect, y_test)\n",
    "# 0.8255813953488372"
   ]
  },
  {
   "cell_type": "markdown",
   "metadata": {},
   "source": [
    "### The test score was 0.82558, indicating the model is overfit i.e. it is significantly less than the training score (0.988)."
   ]
  },
  {
   "cell_type": "markdown",
   "metadata": {},
   "source": [
    "### Now we will identify the words that were considered most significant in identifying the target variable."
   ]
  },
  {
   "cell_type": "code",
   "execution_count": 85,
   "metadata": {},
   "outputs": [
    {
     "data": {
      "text/plain": [
       "array([[ 0.1396091 ,  0.02024425, -0.0139385 , ..., -0.00707096,\n",
       "        -0.00707096, -0.00707096]])"
      ]
     },
     "execution_count": 85,
     "metadata": {},
     "output_type": "execute_result"
    }
   ],
   "source": [
    "lr.coef_"
   ]
  },
  {
   "cell_type": "code",
   "execution_count": 117,
   "metadata": {},
   "outputs": [
    {
     "data": {
      "text/plain": [
       "'100'"
      ]
     },
     "execution_count": 117,
     "metadata": {},
     "output_type": "execute_result"
    }
   ],
   "source": [
    "coefs=lr.coef_[0]\n",
    "top_ten = np.argpartition(coefs, -10)[-10:] # get the top ten\n",
    "\n",
    "top_ten[np.argsort(coefs[top_ten])] # sort the top ten\n",
    "# array([ 393,   41, 4579, 2900, 3288,   74,   28, 3654,  337, 2267]) \n",
    "# last one is most important\n",
    "\n",
    "# In order of importance - most important first\n",
    "#features_array[2267] # 'hurricanemichael'\n",
    "# features_array[337] # '80'\n",
    "# features_array[3654] # 'rain'\n",
    "#features_array[28] # '100'\n",
    "#features_array[74] # '13mph'\n",
    "#features_array[3288] # 'panhandle'\n",
    "#features_array[2900] # 'michael'\n",
    "#features_array[4579] # 'tyndall'\n",
    "#features_array[41] # '1027mb'\n",
    "#features_array[393] # '9mph'"
   ]
  },
  {
   "cell_type": "markdown",
   "metadata": {},
   "source": [
    "### The ten most significant words were\n",
    "\n",
    "### hurricanemichael, 80, rain, 100, 13mph, panhandle, michael, tyndall, 1027mb, 9mph"
   ]
  },
  {
   "cell_type": "code",
   "execution_count": 91,
   "metadata": {},
   "outputs": [
    {
     "data": {
      "text/plain": [
       "array([ 0.1396091 ,  0.02024425, -0.0139385 , ..., -0.00707096,\n",
       "       -0.00707096, -0.00707096])"
      ]
     },
     "execution_count": 91,
     "metadata": {},
     "output_type": "execute_result"
    }
   ],
   "source": [
    "lr.coef_[0]"
   ]
  },
  {
   "cell_type": "markdown",
   "metadata": {},
   "source": [
    "### Now we will look to see how many false Positives and false Negatives we had."
   ]
  },
  {
   "cell_type": "code",
   "execution_count": 122,
   "metadata": {},
   "outputs": [
    {
     "data": {
      "text/plain": [
       "pandas.core.series.Series"
      ]
     },
     "execution_count": 122,
     "metadata": {},
     "output_type": "execute_result"
    }
   ],
   "source": [
    "preds_array = lr.predict(X_test_vect)\n",
    "#y_test\n",
    "#y_test_preds = y_test.assign(target = preds_array)\n",
    "type(y_test) # pandas.core.series.Series"
   ]
  },
  {
   "cell_type": "code",
   "execution_count": 139,
   "metadata": {},
   "outputs": [
    {
     "data": {
      "text/plain": [
       "numpy.ndarray"
      ]
     },
     "execution_count": 139,
     "metadata": {},
     "output_type": "execute_result"
    }
   ],
   "source": [
    "#cvect.get_feature_names()\n",
    "type(preds_array) # numpy.ndarray"
   ]
  },
  {
   "cell_type": "code",
   "execution_count": 142,
   "metadata": {},
   "outputs": [
    {
     "data": {
      "text/html": [
       "<div>\n",
       "<style scoped>\n",
       "    .dataframe tbody tr th:only-of-type {\n",
       "        vertical-align: middle;\n",
       "    }\n",
       "\n",
       "    .dataframe tbody tr th {\n",
       "        vertical-align: top;\n",
       "    }\n",
       "\n",
       "    .dataframe thead th {\n",
       "        text-align: right;\n",
       "    }\n",
       "</style>\n",
       "<table border=\"1\" class=\"dataframe\">\n",
       "  <thead>\n",
       "    <tr style=\"text-align: right;\">\n",
       "      <th></th>\n",
       "      <th>tweet_count</th>\n",
       "      <th>hourly_text</th>\n",
       "    </tr>\n",
       "  </thead>\n",
       "  <tbody>\n",
       "    <tr>\n",
       "      <th>2018-10-17 01:00:00</th>\n",
       "      <td>5</td>\n",
       "      <td>#hurricanemichael photos @rickcyoung @ Bay Cou...</td>\n",
       "    </tr>\n",
       "    <tr>\n",
       "      <th>2018-10-07 01:00:00</th>\n",
       "      <td>4</td>\n",
       "      <td>Kisses for the couple #itskloiberingtime #rosi...</td>\n",
       "    </tr>\n",
       "    <tr>\n",
       "      <th>2018-10-06 22:00:00</th>\n",
       "      <td>7</td>\n",
       "      <td>Panama City FL Sat Oct 6th PM Forecast: TONIGH...</td>\n",
       "    </tr>\n",
       "    <tr>\n",
       "      <th>2018-10-03 04:00:00</th>\n",
       "      <td>1</td>\n",
       "      <td>light intensity drizzle -&amp;gt; clear sky\\ntempe...</td>\n",
       "    </tr>\n",
       "    <tr>\n",
       "      <th>2018-10-07 16:00:00</th>\n",
       "      <td>5</td>\n",
       "      <td>I'm at Grayton Beach State Park in Santa Rosa ...</td>\n",
       "    </tr>\n",
       "  </tbody>\n",
       "</table>\n",
       "</div>"
      ],
      "text/plain": [
       "                     tweet_count  \\\n",
       "2018-10-17 01:00:00            5   \n",
       "2018-10-07 01:00:00            4   \n",
       "2018-10-06 22:00:00            7   \n",
       "2018-10-03 04:00:00            1   \n",
       "2018-10-07 16:00:00            5   \n",
       "\n",
       "                                                           hourly_text  \n",
       "2018-10-17 01:00:00  #hurricanemichael photos @rickcyoung @ Bay Cou...  \n",
       "2018-10-07 01:00:00  Kisses for the couple #itskloiberingtime #rosi...  \n",
       "2018-10-06 22:00:00  Panama City FL Sat Oct 6th PM Forecast: TONIGH...  \n",
       "2018-10-03 04:00:00  light intensity drizzle -&gt; clear sky\\ntempe...  \n",
       "2018-10-07 16:00:00  I'm at Grayton Beach State Park in Santa Rosa ...  "
      ]
     },
     "execution_count": 142,
     "metadata": {},
     "output_type": "execute_result"
    }
   ],
   "source": [
    "X_test.shape # (86, 2)\n",
    "X_test.head()"
   ]
  },
  {
   "cell_type": "code",
   "execution_count": 147,
   "metadata": {},
   "outputs": [],
   "source": [
    "X_test_actual = X_test.assign(actual=y_test)"
   ]
  },
  {
   "cell_type": "code",
   "execution_count": 149,
   "metadata": {},
   "outputs": [
    {
     "data": {
      "text/html": [
       "<div>\n",
       "<style scoped>\n",
       "    .dataframe tbody tr th:only-of-type {\n",
       "        vertical-align: middle;\n",
       "    }\n",
       "\n",
       "    .dataframe tbody tr th {\n",
       "        vertical-align: top;\n",
       "    }\n",
       "\n",
       "    .dataframe thead th {\n",
       "        text-align: right;\n",
       "    }\n",
       "</style>\n",
       "<table border=\"1\" class=\"dataframe\">\n",
       "  <thead>\n",
       "    <tr style=\"text-align: right;\">\n",
       "      <th></th>\n",
       "      <th>tweet_count</th>\n",
       "      <th>hourly_text</th>\n",
       "      <th>actual</th>\n",
       "    </tr>\n",
       "  </thead>\n",
       "  <tbody>\n",
       "    <tr>\n",
       "      <th>2018-10-17 01:00:00</th>\n",
       "      <td>5</td>\n",
       "      <td>#hurricanemichael photos @rickcyoung @ Bay Cou...</td>\n",
       "      <td>0</td>\n",
       "    </tr>\n",
       "    <tr>\n",
       "      <th>2018-10-07 01:00:00</th>\n",
       "      <td>4</td>\n",
       "      <td>Kisses for the couple #itskloiberingtime #rosi...</td>\n",
       "      <td>0</td>\n",
       "    </tr>\n",
       "    <tr>\n",
       "      <th>2018-10-06 22:00:00</th>\n",
       "      <td>7</td>\n",
       "      <td>Panama City FL Sat Oct 6th PM Forecast: TONIGH...</td>\n",
       "      <td>0</td>\n",
       "    </tr>\n",
       "    <tr>\n",
       "      <th>2018-10-03 04:00:00</th>\n",
       "      <td>1</td>\n",
       "      <td>light intensity drizzle -&amp;gt; clear sky\\ntempe...</td>\n",
       "      <td>0</td>\n",
       "    </tr>\n",
       "    <tr>\n",
       "      <th>2018-10-07 16:00:00</th>\n",
       "      <td>5</td>\n",
       "      <td>I'm at Grayton Beach State Park in Santa Rosa ...</td>\n",
       "      <td>0</td>\n",
       "    </tr>\n",
       "  </tbody>\n",
       "</table>\n",
       "</div>"
      ],
      "text/plain": [
       "                     tweet_count  \\\n",
       "2018-10-17 01:00:00            5   \n",
       "2018-10-07 01:00:00            4   \n",
       "2018-10-06 22:00:00            7   \n",
       "2018-10-03 04:00:00            1   \n",
       "2018-10-07 16:00:00            5   \n",
       "\n",
       "                                                           hourly_text  actual  \n",
       "2018-10-17 01:00:00  #hurricanemichael photos @rickcyoung @ Bay Cou...       0  \n",
       "2018-10-07 01:00:00  Kisses for the couple #itskloiberingtime #rosi...       0  \n",
       "2018-10-06 22:00:00  Panama City FL Sat Oct 6th PM Forecast: TONIGH...       0  \n",
       "2018-10-03 04:00:00  light intensity drizzle -&gt; clear sky\\ntempe...       0  \n",
       "2018-10-07 16:00:00  I'm at Grayton Beach State Park in Santa Rosa ...       0  "
      ]
     },
     "execution_count": 149,
     "metadata": {},
     "output_type": "execute_result"
    }
   ],
   "source": [
    "X_test_actual.head()"
   ]
  },
  {
   "cell_type": "code",
   "execution_count": 154,
   "metadata": {},
   "outputs": [],
   "source": [
    "X_test_actual_preds = X_test_actual.assign(predicted=preds_array)"
   ]
  },
  {
   "cell_type": "markdown",
   "metadata": {},
   "source": [
    "### Results:\n",
    "### 10 are correctly predicted as hurricane out of 14 total that are predicted as hurricane.\n",
    "### 11 are incorrectly marked as not hurricane out of 21 actual hurricane flags"
   ]
  },
  {
   "cell_type": "code",
   "execution_count": 164,
   "metadata": {},
   "outputs": [
    {
     "data": {
      "text/html": [
       "<div>\n",
       "<style scoped>\n",
       "    .dataframe tbody tr th:only-of-type {\n",
       "        vertical-align: middle;\n",
       "    }\n",
       "\n",
       "    .dataframe tbody tr th {\n",
       "        vertical-align: top;\n",
       "    }\n",
       "\n",
       "    .dataframe thead th {\n",
       "        text-align: right;\n",
       "    }\n",
       "</style>\n",
       "<table border=\"1\" class=\"dataframe\">\n",
       "  <thead>\n",
       "    <tr style=\"text-align: right;\">\n",
       "      <th></th>\n",
       "      <th>tweet_count</th>\n",
       "      <th>hourly_text</th>\n",
       "      <th>actual</th>\n",
       "      <th>predicted</th>\n",
       "    </tr>\n",
       "  </thead>\n",
       "  <tbody>\n",
       "    <tr>\n",
       "      <th>2018-10-12 05:00:00</th>\n",
       "      <td>2</td>\n",
       "      <td>🌀 #TeamTrimew #prayforflorida #panamabeach #pa...</td>\n",
       "      <td>1</td>\n",
       "      <td>0</td>\n",
       "    </tr>\n",
       "    <tr>\n",
       "      <th>2018-10-10 10:00:00</th>\n",
       "      <td>2</td>\n",
       "      <td>WALL TO WALL COVERAGE!!!!!!!! TUNE INTO ALL OF...</td>\n",
       "      <td>1</td>\n",
       "      <td>0</td>\n",
       "    </tr>\n",
       "    <tr>\n",
       "      <th>2018-10-10 06:00:00</th>\n",
       "      <td>2</td>\n",
       "      <td>🌤 @ Panama City, Florida https://t.co/SRo9kDNU...</td>\n",
       "      <td>1</td>\n",
       "      <td>0</td>\n",
       "    </tr>\n",
       "    <tr>\n",
       "      <th>2018-10-12 04:00:00</th>\n",
       "      <td>9</td>\n",
       "      <td>St. John the Evangelist middle school @ St. An...</td>\n",
       "      <td>1</td>\n",
       "      <td>1</td>\n",
       "    </tr>\n",
       "    <tr>\n",
       "      <th>2018-10-11 06:00:00</th>\n",
       "      <td>1</td>\n",
       "      <td>moderate rain -&amp;gt; light rain\\ntemperature up...</td>\n",
       "      <td>1</td>\n",
       "      <td>1</td>\n",
       "    </tr>\n",
       "    <tr>\n",
       "      <th>2018-10-09 23:00:00</th>\n",
       "      <td>5</td>\n",
       "      <td>Where did everyone go? Beautiful day out here....</td>\n",
       "      <td>1</td>\n",
       "      <td>1</td>\n",
       "    </tr>\n",
       "    <tr>\n",
       "      <th>2018-10-10 04:00:00</th>\n",
       "      <td>4</td>\n",
       "      <td>Livvie loving the waves! #goldendoodle #waves ...</td>\n",
       "      <td>1</td>\n",
       "      <td>0</td>\n",
       "    </tr>\n",
       "    <tr>\n",
       "      <th>2018-10-11 14:00:00</th>\n",
       "      <td>3</td>\n",
       "      <td>Disgruntled tourists. @ Rosemary Beach, Florid...</td>\n",
       "      <td>1</td>\n",
       "      <td>0</td>\n",
       "    </tr>\n",
       "    <tr>\n",
       "      <th>2018-10-11 03:00:00</th>\n",
       "      <td>2</td>\n",
       "      <td>Our house! But we are safe and our house has m...</td>\n",
       "      <td>1</td>\n",
       "      <td>0</td>\n",
       "    </tr>\n",
       "    <tr>\n",
       "      <th>2018-10-12 14:00:00</th>\n",
       "      <td>4</td>\n",
       "      <td>I’ve seen pictures and videos of the damage in...</td>\n",
       "      <td>1</td>\n",
       "      <td>0</td>\n",
       "    </tr>\n",
       "    <tr>\n",
       "      <th>2018-10-10 21:00:00</th>\n",
       "      <td>4</td>\n",
       "      <td>This is #history being made 🌀#hurricanemichael...</td>\n",
       "      <td>1</td>\n",
       "      <td>1</td>\n",
       "    </tr>\n",
       "    <tr>\n",
       "      <th>2018-10-13 15:00:00</th>\n",
       "      <td>9</td>\n",
       "      <td>Ground Zero: #MexicoBeach #hurricanemichael @ ...</td>\n",
       "      <td>1</td>\n",
       "      <td>0</td>\n",
       "    </tr>\n",
       "    <tr>\n",
       "      <th>2018-10-10 11:00:00</th>\n",
       "      <td>3</td>\n",
       "      <td>moderate rain -&amp;gt; heavy intensity rain\\ntemp...</td>\n",
       "      <td>1</td>\n",
       "      <td>1</td>\n",
       "    </tr>\n",
       "    <tr>\n",
       "      <th>2018-10-12 23:00:00</th>\n",
       "      <td>5</td>\n",
       "      <td>Panama City: 6:13pm: sunset ~|~ current weathe...</td>\n",
       "      <td>1</td>\n",
       "      <td>1</td>\n",
       "    </tr>\n",
       "    <tr>\n",
       "      <th>2018-10-11 02:00:00</th>\n",
       "      <td>5</td>\n",
       "      <td>I took this from someone’s post. Interesting! ...</td>\n",
       "      <td>1</td>\n",
       "      <td>0</td>\n",
       "    </tr>\n",
       "    <tr>\n",
       "      <th>2018-10-12 18:00:00</th>\n",
       "      <td>5</td>\n",
       "      <td>#Repost tallerrally with get_repost\\n・・・\\n📲 PR...</td>\n",
       "      <td>1</td>\n",
       "      <td>0</td>\n",
       "    </tr>\n",
       "    <tr>\n",
       "      <th>2018-10-10 00:00:00</th>\n",
       "      <td>5</td>\n",
       "      <td>This is pretty much how my day went...minus me...</td>\n",
       "      <td>1</td>\n",
       "      <td>1</td>\n",
       "    </tr>\n",
       "    <tr>\n",
       "      <th>2018-10-11 17:00:00</th>\n",
       "      <td>7</td>\n",
       "      <td>The road to Mexico, FL #hurricanemichael @weat...</td>\n",
       "      <td>1</td>\n",
       "      <td>1</td>\n",
       "    </tr>\n",
       "    <tr>\n",
       "      <th>2018-10-11 15:00:00</th>\n",
       "      <td>7</td>\n",
       "      <td>Prayers for all of those affected by #Hurrican...</td>\n",
       "      <td>1</td>\n",
       "      <td>1</td>\n",
       "    </tr>\n",
       "    <tr>\n",
       "      <th>2018-10-12 22:00:00</th>\n",
       "      <td>8</td>\n",
       "      <td>Panama City FL Fri Oct 12th PM Forecast: TONIG...</td>\n",
       "      <td>1</td>\n",
       "      <td>1</td>\n",
       "    </tr>\n",
       "    <tr>\n",
       "      <th>2018-10-13 18:00:00</th>\n",
       "      <td>2</td>\n",
       "      <td>Just some of the devistation Ashley's family s...</td>\n",
       "      <td>1</td>\n",
       "      <td>0</td>\n",
       "    </tr>\n",
       "  </tbody>\n",
       "</table>\n",
       "</div>"
      ],
      "text/plain": [
       "                     tweet_count  \\\n",
       "2018-10-12 05:00:00            2   \n",
       "2018-10-10 10:00:00            2   \n",
       "2018-10-10 06:00:00            2   \n",
       "2018-10-12 04:00:00            9   \n",
       "2018-10-11 06:00:00            1   \n",
       "2018-10-09 23:00:00            5   \n",
       "2018-10-10 04:00:00            4   \n",
       "2018-10-11 14:00:00            3   \n",
       "2018-10-11 03:00:00            2   \n",
       "2018-10-12 14:00:00            4   \n",
       "2018-10-10 21:00:00            4   \n",
       "2018-10-13 15:00:00            9   \n",
       "2018-10-10 11:00:00            3   \n",
       "2018-10-12 23:00:00            5   \n",
       "2018-10-11 02:00:00            5   \n",
       "2018-10-12 18:00:00            5   \n",
       "2018-10-10 00:00:00            5   \n",
       "2018-10-11 17:00:00            7   \n",
       "2018-10-11 15:00:00            7   \n",
       "2018-10-12 22:00:00            8   \n",
       "2018-10-13 18:00:00            2   \n",
       "\n",
       "                                                           hourly_text  \\\n",
       "2018-10-12 05:00:00  🌀 #TeamTrimew #prayforflorida #panamabeach #pa...   \n",
       "2018-10-10 10:00:00  WALL TO WALL COVERAGE!!!!!!!! TUNE INTO ALL OF...   \n",
       "2018-10-10 06:00:00  🌤 @ Panama City, Florida https://t.co/SRo9kDNU...   \n",
       "2018-10-12 04:00:00  St. John the Evangelist middle school @ St. An...   \n",
       "2018-10-11 06:00:00  moderate rain -&gt; light rain\\ntemperature up...   \n",
       "2018-10-09 23:00:00  Where did everyone go? Beautiful day out here....   \n",
       "2018-10-10 04:00:00  Livvie loving the waves! #goldendoodle #waves ...   \n",
       "2018-10-11 14:00:00  Disgruntled tourists. @ Rosemary Beach, Florid...   \n",
       "2018-10-11 03:00:00  Our house! But we are safe and our house has m...   \n",
       "2018-10-12 14:00:00  I’ve seen pictures and videos of the damage in...   \n",
       "2018-10-10 21:00:00  This is #history being made 🌀#hurricanemichael...   \n",
       "2018-10-13 15:00:00  Ground Zero: #MexicoBeach #hurricanemichael @ ...   \n",
       "2018-10-10 11:00:00  moderate rain -&gt; heavy intensity rain\\ntemp...   \n",
       "2018-10-12 23:00:00  Panama City: 6:13pm: sunset ~|~ current weathe...   \n",
       "2018-10-11 02:00:00  I took this from someone’s post. Interesting! ...   \n",
       "2018-10-12 18:00:00  #Repost tallerrally with get_repost\\n・・・\\n📲 PR...   \n",
       "2018-10-10 00:00:00  This is pretty much how my day went...minus me...   \n",
       "2018-10-11 17:00:00  The road to Mexico, FL #hurricanemichael @weat...   \n",
       "2018-10-11 15:00:00  Prayers for all of those affected by #Hurrican...   \n",
       "2018-10-12 22:00:00  Panama City FL Fri Oct 12th PM Forecast: TONIG...   \n",
       "2018-10-13 18:00:00  Just some of the devistation Ashley's family s...   \n",
       "\n",
       "                     actual  predicted  \n",
       "2018-10-12 05:00:00       1          0  \n",
       "2018-10-10 10:00:00       1          0  \n",
       "2018-10-10 06:00:00       1          0  \n",
       "2018-10-12 04:00:00       1          1  \n",
       "2018-10-11 06:00:00       1          1  \n",
       "2018-10-09 23:00:00       1          1  \n",
       "2018-10-10 04:00:00       1          0  \n",
       "2018-10-11 14:00:00       1          0  \n",
       "2018-10-11 03:00:00       1          0  \n",
       "2018-10-12 14:00:00       1          0  \n",
       "2018-10-10 21:00:00       1          1  \n",
       "2018-10-13 15:00:00       1          0  \n",
       "2018-10-10 11:00:00       1          1  \n",
       "2018-10-12 23:00:00       1          1  \n",
       "2018-10-11 02:00:00       1          0  \n",
       "2018-10-12 18:00:00       1          0  \n",
       "2018-10-10 00:00:00       1          1  \n",
       "2018-10-11 17:00:00       1          1  \n",
       "2018-10-11 15:00:00       1          1  \n",
       "2018-10-12 22:00:00       1          1  \n",
       "2018-10-13 18:00:00       1          0  "
      ]
     },
     "execution_count": 164,
     "metadata": {},
     "output_type": "execute_result"
    }
   ],
   "source": [
    "X_test_actual_preds[X_test_actual_preds.actual==1].shape # (21, 4)\n",
    "X_test_actual_preds[X_test_actual_preds.predicted==1] \n",
    "# 10 are correctly predicted as hurricane out of 14 total that are predicted as hurricane\n",
    "\n",
    "X_test_actual_preds[X_test_actual_preds.actual==1] \n",
    "# 11 are incorrectly marked as not hurricane out of 21 actual hurricane flags\n",
    "\n",
    "#X_test.shape # (86, 2)"
   ]
  }
 ],
 "metadata": {
  "kernelspec": {
   "display_name": "Python 3",
   "language": "python",
   "name": "python3"
  },
  "language_info": {
   "codemirror_mode": {
    "name": "ipython",
    "version": 3
   },
   "file_extension": ".py",
   "mimetype": "text/x-python",
   "name": "python",
   "nbconvert_exporter": "python",
   "pygments_lexer": "ipython3",
   "version": "3.7.0"
  }
 },
 "nbformat": 4,
 "nbformat_minor": 2
}
